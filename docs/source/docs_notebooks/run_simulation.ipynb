{
 "cells": [
  {
   "cell_type": "code",
   "execution_count": null,
   "id": "7224bf47-95b7-4190-b7a6-08a1ebb3759b",
   "metadata": {},
   "outputs": [],
   "source": [
    "from SyMBac.phase_contrast_drawing import run_simulation, get_trench_segments, draw_scene\n",
    "from SyMBac.general_drawing import generate_curve_props, gen_cell_props_for_draw, get_space_size, convolve_rescale"
   ]
  },
  {
   "cell_type": "code",
   "execution_count": null,
   "id": "fb049f97-022c-4aaa-ad04-e37db91665cf",
   "metadata": {},
   "outputs": [],
   "source": [
    "resize_amount = 3\n",
    "pix_mic_conv = 0.0655 ##0.108379937 micron/pix for 60x, 0.0655 for 100x\n",
    "scale = pix_mic_conv / resize_amount \n",
    "sim_length = 1000"
   ]
  },
  {
   "cell_type": "code",
   "execution_count": null,
   "id": "adbca6cb-dede-4b64-98b4-dc0251a97dd6",
   "metadata": {},
   "outputs": [],
   "source": [
    "cell_timeseries, space = run_simulation(\n",
    "    trench_length=15, \n",
    "    trench_width=1.5, \n",
    "    cell_max_length=6, #6, long cells # 1.65 short cells\n",
    "    cell_width= 1, #1 long cells # 0.95 short cells\n",
    "    sim_length = sim_length,\n",
    "    pix_mic_conv = pix_mic_conv,\n",
    "    gravity=0,\n",
    "    phys_iters=20,\n",
    "    max_length_var = 3,\n",
    "    width_var = 0.3,\n",
    "    save_dir=\"/tmp/\"\n",
    ") # growth phase"
   ]
  },
  {
   "cell_type": "code",
   "execution_count": null,
   "id": "d904fac2-f242-4c02-b76d-9f55b53a8eb0",
   "metadata": {},
   "outputs": [],
   "source": [
    "main_segments = get_trench_segments(space)\n",
    "ID_props = generate_curve_props(cell_timeseries)"
   ]
  },
  {
   "cell_type": "code",
   "execution_count": null,
   "id": "0e3bbaf9-ffe5-49e2-b22f-e5ec88041ba0",
   "metadata": {
    "tags": []
   },
   "outputs": [],
   "source": [
    "from joblib import Parallel, delayed\n",
    "from tqdm.notebook import tqdm\n",
    "\n",
    "cell_timeseries_properties = Parallel(n_jobs=-1)(\n",
    "    delayed(gen_cell_props_for_draw)(a, ID_props) for a in tqdm(cell_timeseries, desc='Timeseries Properties'))\n",
    "\n",
    "do_transformation = True\n",
    "offset = 30\n",
    "label_masks = True\n",
    "space_size = get_space_size(cell_timeseries_properties)\n",
    "scenes = Parallel(n_jobs=-1)(delayed(draw_scene)(\n",
    "    cell_properties, do_transformation, space_size, offset, label_masks) for cell_properties in tqdm(cell_timeseries_properties, desc='Scene Draw:'))"
   ]
  },
  {
   "cell_type": "code",
   "execution_count": null,
   "id": "b1226787-19de-4436-a1f3-abd4d1166e97",
   "metadata": {},
   "outputs": [],
   "source": [
    "import pickle\n",
    "cell_timeseries_properties_file = open('cell_timeseries_properties.p', 'wb')\n",
    "pickle.dump(cell_timeseries_properties, cell_timeseries_properties_file)\n",
    "cell_timeseries_properties_file.close()\n",
    "\n",
    "main_segments_file = open('main_segments.p', 'wb')\n",
    "pickle.dump(main_segments, main_segments_file)\n",
    "main_segments_file.close()"
   ]
  }
 ],
 "metadata": {
  "kernelspec": {
   "display_name": "Python 3 (ipykernel)",
   "language": "python",
   "name": "python3"
  },
  "language_info": {
   "codemirror_mode": {
    "name": "ipython",
    "version": 3
   },
   "file_extension": ".py",
   "mimetype": "text/x-python",
   "name": "python",
   "nbconvert_exporter": "python",
   "pygments_lexer": "ipython3",
   "version": "3.9.12"
  }
 },
 "nbformat": 4,
 "nbformat_minor": 5
}
