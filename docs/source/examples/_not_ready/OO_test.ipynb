{
 "cells": [
  {
   "cell_type": "code",
   "execution_count": 1,
   "metadata": {
    "tags": []
   },
   "outputs": [
    {
     "name": "stderr",
     "output_type": "stream",
     "text": [
      "/home/georgeos/Documents/GitHub/SyMBac/SyMBac/cell_simulation.py:13: TqdmExperimentalWarning: Using `tqdm.autonotebook.tqdm` in notebook mode. Use `tqdm.tqdm` instead to force console mode (e.g. in jupyter console)\n",
      "  from tqdm.autonotebook import tqdm\n",
      "TiffPage 0: TypeError: read_bytes() missing 3 required positional arguments: 'dtype', 'count', and 'offsetsize'\n"
     ]
    }
   ],
   "source": [
    "import sys\n",
    "sys.path.insert(1, '/home/georgeos/Documents/GitHub/SyMBac/')\n",
    "\n",
    "from SyMBac.cell_simulation import Simulation\n",
    "from SyMBac.PSF import PSF_generator\n",
    "from SyMBac.drawing import Renderer\n",
    "from SyMBac.PSF import Camera\n",
    "from SyMBac.misc import get_sample_images\n",
    "real_image = get_sample_images()[\"E. coli 100x\"]"
   ]
  },
  {
   "cell_type": "code",
   "execution_count": 2,
   "metadata": {
    "collapsed": false,
    "jupyter": {
     "outputs_hidden": false
    }
   },
   "outputs": [],
   "source": [
    "my_simulation = Simulation(\n",
    "    trench_length=15,\n",
    "    trench_width=1.3,\n",
    "    cell_max_length=6.65, #6, long cells # 1.65 short cells\n",
    "    cell_width= 1, #1 long cells # 0.95 short cells\n",
    "    sim_length = 100,\n",
    "    pix_mic_conv = 0.065,\n",
    "    gravity=0,\n",
    "    phys_iters=15,\n",
    "    max_length_var = 0.,\n",
    "    width_var = 0.,\n",
    "    lysis_p = 0.,\n",
    "    save_dir=\"/tmp/\",\n",
    "    resize_amount = 3\n",
    ")"
   ]
  },
  {
   "cell_type": "code",
   "execution_count": 3,
   "metadata": {
    "collapsed": false,
    "jupyter": {
     "outputs_hidden": false
    }
   },
   "outputs": [
    {
     "data": {
      "application/vnd.jupyter.widget-view+json": {
       "model_id": "4a49fc9ec9b44d4aa6c22bbbdf66cc3e",
       "version_major": 2,
       "version_minor": 0
      },
      "text/plain": [
       "  0%|          | 0/100 [00:00<?, ?it/s]"
      ]
     },
     "metadata": {},
     "output_type": "display_data"
    },
    {
     "data": {
      "application/vnd.jupyter.widget-view+json": {
       "model_id": "03a2e78795da464ba2d1ba5a0f49c3a4",
       "version_major": 2,
       "version_minor": 0
      },
      "text/plain": [
       "Timeseries Properties:   0%|          | 0/98 [00:00<?, ?it/s]"
      ]
     },
     "metadata": {},
     "output_type": "display_data"
    },
    {
     "data": {
      "application/vnd.jupyter.widget-view+json": {
       "model_id": "bfd4fa559617482b8a66ba12f408f706",
       "version_major": 2,
       "version_minor": 0
      },
      "text/plain": [
       "Scene Draw::   0%|          | 0/98 [00:00<?, ?it/s]"
      ]
     },
     "metadata": {},
     "output_type": "display_data"
    }
   ],
   "source": [
    "my_simulation.run_simulation(show_window=False)\n",
    "my_simulation.draw_simulation_OPL(do_transformation=True, label_masks=True)"
   ]
  },
  {
   "cell_type": "code",
   "execution_count": 4,
   "metadata": {
    "collapsed": false,
    "jupyter": {
     "outputs_hidden": false
    }
   },
   "outputs": [],
   "source": [
    "my_kernel = PSF_generator(\n",
    "    radius = 50, \n",
    "    wavelength = 0.75, \n",
    "    NA = 1.2, \n",
    "    n = 1.3, \n",
    "    resize_amount = 3, \n",
    "    pix_mic_conv = 0.065, \n",
    "    apo_sigma = 10, \n",
    "    mode=\"phase contrast\", \n",
    "    condenser = \"Ph3\")\n",
    "my_kernel.calculate_PSF()"
   ]
  },
  {
   "cell_type": "code",
   "execution_count": 5,
   "metadata": {
    "collapsed": false,
    "jupyter": {
     "outputs_hidden": false
    }
   },
   "outputs": [],
   "source": [
    "my_camera = Camera(baseline=100, sensitivity=2.9, dark_noise=8)"
   ]
  },
  {
   "cell_type": "code",
   "execution_count": 6,
   "metadata": {
    "collapsed": false,
    "jupyter": {
     "outputs_hidden": false
    }
   },
   "outputs": [],
   "source": [
    "my_renderer = Renderer(my_simulation, my_kernel, real_image, my_camera)"
   ]
  },
  {
   "cell_type": "code",
   "execution_count": 7,
   "metadata": {
    "collapsed": false,
    "jupyter": {
     "outputs_hidden": false
    }
   },
   "outputs": [],
   "source": [
    "my_renderer.select_intensity_napari()"
   ]
  },
  {
   "cell_type": "code",
   "execution_count": 8,
   "metadata": {
    "collapsed": false,
    "jupyter": {
     "outputs_hidden": false
    }
   },
   "outputs": [
    {
     "name": "stderr",
     "output_type": "stream",
     "text": [
      "/home/georgeos/Documents/GitHub/SyMBac/SyMBac/drawing.py:942: RuntimeWarning: Mean of empty slice.\n",
      "  self.real_media_mean = self.real_resize[np.where(self.media_label.data)].mean()\n",
      "/home/georgeos/miniconda3/envs/symbac/lib/python3.9/site-packages/numpy/core/_methods.py:190: RuntimeWarning: invalid value encountered in double_scalars\n",
      "  ret = ret.dtype.type(ret / rcount)\n",
      "/home/georgeos/Documents/GitHub/SyMBac/SyMBac/drawing.py:943: RuntimeWarning: Mean of empty slice.\n",
      "  self.real_cell_mean = self.real_resize[np.where(self.cell_label.data)].mean()\n",
      "/home/georgeos/Documents/GitHub/SyMBac/SyMBac/drawing.py:944: RuntimeWarning: Mean of empty slice.\n",
      "  self.real_device_mean = self.real_resize[np.where(self.device_label.data)].mean()\n",
      "/home/georgeos/Documents/GitHub/SyMBac/SyMBac/drawing.py:947: RuntimeWarning: Degrees of freedom <= 0 for slice\n",
      "  self.real_media_var = self.real_resize[np.where(self.media_label.data)].var()\n",
      "/home/georgeos/miniconda3/envs/symbac/lib/python3.9/site-packages/numpy/core/_methods.py:223: RuntimeWarning: invalid value encountered in divide\n",
      "  arrmean = um.true_divide(arrmean, div, out=arrmean, casting='unsafe',\n",
      "/home/georgeos/miniconda3/envs/symbac/lib/python3.9/site-packages/numpy/core/_methods.py:257: RuntimeWarning: invalid value encountered in double_scalars\n",
      "  ret = ret.dtype.type(ret / rcount)\n",
      "/home/georgeos/Documents/GitHub/SyMBac/SyMBac/drawing.py:948: RuntimeWarning: Degrees of freedom <= 0 for slice\n",
      "  self.real_cell_var = self.real_resize[np.where(self.cell_label.data)].var()\n",
      "/home/georgeos/Documents/GitHub/SyMBac/SyMBac/drawing.py:949: RuntimeWarning: Degrees of freedom <= 0 for slice\n",
      "  self.real_device_var = self.real_resize[np.where(self.device_label.data)].var()\n"
     ]
    },
    {
     "data": {
      "application/vnd.jupyter.widget-view+json": {
       "model_id": "703cbc52a5e641b3815418907c14d147",
       "version_major": 2,
       "version_minor": 0
      },
      "text/plain": [
       "interactive(children=(IntSlider(value=75, description='media_multiplier', max=300, min=-300), FloatSlider(valu…"
      ]
     },
     "metadata": {},
     "output_type": "display_data"
    }
   ],
   "source": [
    "my_renderer.optimise_synth_image(manual_update=False)"
   ]
  },
  {
   "cell_type": "code",
   "execution_count": 9,
   "metadata": {},
   "outputs": [
    {
     "name": "stderr",
     "output_type": "stream",
     "text": [
      "Sample generation: 100%|██████████████████████| 500/500 [00:44<00:00, 11.25it/s]\n"
     ]
    }
   ],
   "source": [
    "my_renderer.generate_training_data(sample_amount=0.2, randomise_hist_match=True, randomise_noise_match=True, burn_in=40, n_samples = 500, save_dir=\"/tmp/test/\", in_series=False)"
   ]
  },
  {
   "cell_type": "code",
   "execution_count": null,
   "metadata": {},
   "outputs": [],
   "source": []
  }
 ],
 "metadata": {
  "kernelspec": {
   "display_name": "symbac",
   "language": "python",
   "name": "symbac"
  },
  "language_info": {
   "codemirror_mode": {
    "name": "ipython",
    "version": 3
   },
   "file_extension": ".py",
   "mimetype": "text/x-python",
   "name": "python",
   "nbconvert_exporter": "python",
   "pygments_lexer": "ipython3",
   "version": "3.9.12"
  },
  "vscode": {
   "interpreter": {
    "hash": "d73e5fda5dcb2575a75a56ed9fbeea47b5fa7fb8337a6ef0dda72b5e90aab48f"
   }
  }
 },
 "nbformat": 4,
 "nbformat_minor": 4
}
