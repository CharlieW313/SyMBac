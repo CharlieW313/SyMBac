{
 "cells": [
  {
   "cell_type": "code",
   "execution_count": 1,
   "metadata": {
    "collapsed": true
   },
   "outputs": [
    {
     "name": "stderr",
     "output_type": "stream",
     "text": [
      "/home/georgeos/Documents/GitHub/SyMBac/SyMBac/cell_simulation.py:13: TqdmExperimentalWarning: Using `tqdm.autonotebook.tqdm` in notebook mode. Use `tqdm.tqdm` instead to force console mode (e.g. in jupyter console)\n",
      "  from tqdm.autonotebook import tqdm\n"
     ]
    }
   ],
   "source": [
    "from SyMBac.cell_simulation import Simulation"
   ]
  },
  {
   "cell_type": "code",
   "execution_count": 2,
   "metadata": {
    "collapsed": false
   },
   "outputs": [],
   "source": [
    "my_simulation = Simulation(\n",
    "    trench_length=15,\n",
    "    trench_width=1.3,\n",
    "    cell_max_length=6.65, #6, long cells # 1.65 short cells\n",
    "    cell_width= 1, #1 long cells # 0.95 short cells\n",
    "    sim_length = 200,\n",
    "    pix_mic_conv = 0.065,\n",
    "    gravity=0,\n",
    "    phys_iters=15,\n",
    "    max_length_var = 0.,\n",
    "    width_var = 0.,\n",
    "    lysis_p = 0.,\n",
    "    save_dir=\"/tmp/\"\n",
    ")"
   ]
  },
  {
   "cell_type": "code",
   "execution_count": 3,
   "outputs": [
    {
     "data": {
      "text/plain": "  0%|          | 0/200 [00:00<?, ?it/s]",
      "application/vnd.jupyter.widget-view+json": {
       "version_major": 2,
       "version_minor": 0,
       "model_id": "20e659274fb74ae69324811a1e59c013"
      }
     },
     "metadata": {},
     "output_type": "display_data"
    }
   ],
   "source": [
    "my_simulation.run_simulation(show_window=False)"
   ],
   "metadata": {
    "collapsed": false
   }
  },
  {
   "cell_type": "code",
   "execution_count": 4,
   "outputs": [
    {
     "data": {
      "text/plain": "Timeseries Properties:   0%|          | 0/198 [00:00<?, ?it/s]",
      "application/vnd.jupyter.widget-view+json": {
       "version_major": 2,
       "version_minor": 0,
       "model_id": "0191332bba9846dea0a6dcc52b9a8511"
      }
     },
     "metadata": {},
     "output_type": "display_data"
    },
    {
     "data": {
      "text/plain": "Scene Draw::   0%|          | 0/198 [00:00<?, ?it/s]",
      "application/vnd.jupyter.widget-view+json": {
       "version_major": 2,
       "version_minor": 0,
       "model_id": "d114f54bc4b746b48533a8fc2c53422f"
      }
     },
     "metadata": {},
     "output_type": "display_data"
    }
   ],
   "source": [
    "my_simulation.draw_simulation_OPL(do_transformation=False, label_masks=True)"
   ],
   "metadata": {
    "collapsed": false
   }
  },
  {
   "cell_type": "code",
   "execution_count": 6,
   "outputs": [],
   "source": [
    "my_simulation.visualise_in_napari()"
   ],
   "metadata": {
    "collapsed": false
   }
  },
  {
   "cell_type": "code",
   "execution_count": 5,
   "outputs": [],
   "source": [],
   "metadata": {
    "collapsed": false
   }
  }
 ],
 "metadata": {
  "kernelspec": {
   "display_name": "Python 3.9.12 ('symbac')",
   "language": "python",
   "name": "python3"
  },
  "language_info": {
   "codemirror_mode": {
    "name": "ipython",
    "version": 3
   },
   "file_extension": ".py",
   "mimetype": "text/x-python",
   "name": "python",
   "nbconvert_exporter": "python",
   "pygments_lexer": "ipython3",
   "version": "3.9.12"
  },
  "vscode": {
   "interpreter": {
    "hash": "d73e5fda5dcb2575a75a56ed9fbeea47b5fa7fb8337a6ef0dda72b5e90aab48f"
   }
  }
 },
 "nbformat": 4,
 "nbformat_minor": 0
}
