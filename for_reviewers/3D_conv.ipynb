{
 "cells": [
  {
   "cell_type": "code",
   "execution_count": 1,
   "id": "c26e8ccd-ca9f-452b-9231-a80088bf9bdc",
   "metadata": {},
   "outputs": [],
   "source": [
    "from SyMBac.phase_contrast_drawing import run_simulation, get_trench_segments, draw_scene\n",
    "from SyMBac.general_drawing import generate_curve_props, gen_cell_props_for_draw, get_space_size, convolve_rescale\n",
    "import numpy as np\n",
    "import matplotlib.pyplot as plt\n",
    "import napari\n",
    "import pickle\n",
    "import psfmodels as psfm\n",
    "from cupyx.scipy.ndimage import convolve\n",
    "import cupy as cp"
   ]
  },
  {
   "cell_type": "code",
   "execution_count": 2,
   "id": "aab4383c-29e8-4788-9f98-58d2663badb5",
   "metadata": {},
   "outputs": [],
   "source": [
    "resize_amount = 3\n",
    "pix_mic_conv = 0.0655 ##0.108379937 micron/pix for 60x, 0.0655 for 100x\n",
    "scale = pix_mic_conv / resize_amount \n",
    "sim_length = 50"
   ]
  },
  {
   "cell_type": "code",
   "execution_count": 3,
   "id": "4c1d0712-0726-48d2-95eb-645474b0357e",
   "metadata": {},
   "outputs": [],
   "source": [
    "cell_timeseries_properties_file = open(\"../docs/source/docs_notebooks/cell_timeseries_properties.p\", \"rb\")\n",
    "cell_timeseries_properties = pickle.load(cell_timeseries_properties_file)\n",
    "cell_timeseries_properties_file.close()\n",
    "\n",
    "main_segments_file = open(\"../docs/source/docs_notebooks/main_segments.p\", \"rb\")\n",
    "main_segments = pickle.load(main_segments_file)\n",
    "main_segments_file.close()"
   ]
  },
  {
   "cell_type": "code",
   "execution_count": 4,
   "id": "dd7ed555-a165-4013-a8ae-4d9f0ef25c3b",
   "metadata": {},
   "outputs": [
    {
     "data": {
      "application/vnd.jupyter.widget-view+json": {
       "model_id": "1cdf612dbf79435faad4bb35488dc8f9",
       "version_major": 2,
       "version_minor": 0
      },
      "text/plain": [
       "Scene Draw::   0%|          | 0/998 [00:00<?, ?it/s]"
      ]
     },
     "metadata": {},
     "output_type": "display_data"
    }
   ],
   "source": [
    "from joblib import Parallel, delayed\n",
    "from tqdm.notebook import tqdm\n",
    "\n",
    "do_transformation = True\n",
    "offset = 30\n",
    "label_masks = True\n",
    "space_size = get_space_size(cell_timeseries_properties)\n",
    "scenes = Parallel(n_jobs=-1)(delayed(draw_scene)(\n",
    "    cell_properties, do_transformation, space_size, offset, label_masks) for cell_properties in tqdm(cell_timeseries_properties, desc='Scene Draw:'))"
   ]
  },
  {
   "cell_type": "code",
   "execution_count": 5,
   "id": "93f0bd10-7109-4d2d-b4ac-bfa46d70e045",
   "metadata": {},
   "outputs": [],
   "source": [
    "scenes_array = np.array(scenes)"
   ]
  },
  {
   "cell_type": "code",
   "execution_count": 6,
   "id": "93cfb167-2216-4858-93b7-21b990138a94",
   "metadata": {},
   "outputs": [],
   "source": [
    "cells = scenes_array[:,0,:,:]*1.5"
   ]
  },
  {
   "cell_type": "code",
   "execution_count": 7,
   "id": "ca9f296c-31a0-4761-be3d-f77e7a5f5161",
   "metadata": {},
   "outputs": [],
   "source": [
    "volume_shape = cells.shape[1:] + (int(cells.max()),)"
   ]
  },
  {
   "cell_type": "code",
   "execution_count": 8,
   "id": "9740a0b1-e4dc-406e-9852-14df94c82e43",
   "metadata": {},
   "outputs": [],
   "source": [
    "test_cells = np.round(cells[-1])"
   ]
  },
  {
   "cell_type": "code",
   "execution_count": 9,
   "id": "9a31967c-402a-4fcd-a44f-a254fb4dd78d",
   "metadata": {},
   "outputs": [],
   "source": [
    "centreline = int(cells.max()/2)"
   ]
  },
  {
   "cell_type": "code",
   "execution_count": 57,
   "id": "c2719d19-e7af-40b9-82ef-f46e9d29ff22",
   "metadata": {},
   "outputs": [],
   "source": []
  },
  {
   "cell_type": "code",
   "execution_count": 58,
   "id": "4e629ced-638e-4f97-af2b-660ba979689c",
   "metadata": {},
   "outputs": [],
   "source": [
    "def generate_deviation_from_CL(centreline, thickness):\n",
    "    return np.arange(thickness)+centreline - int(np.ceil(thickness/2))"
   ]
  },
  {
   "cell_type": "code",
   "execution_count": 59,
   "id": "ad093d6d-25b4-4adf-b048-20b89e0ff461",
   "metadata": {},
   "outputs": [],
   "source": [
    "def gen_3D_coords_from_2D(centreline, thickness):\n",
    "    return np.where(test_cells==thickness) + (generate_deviation_from_CL(centreline, thickness),)"
   ]
  },
  {
   "cell_type": "code",
   "execution_count": 142,
   "id": "937119dc-97b0-44e5-aa0b-25185d98cd4e",
   "metadata": {},
   "outputs": [],
   "source": [
    "cells_3D = np.zeros(volume_shape)\n",
    "for t in range(int(cells.max()*2)):\n",
    "    test_coords = gen_3D_coords_from_2D(centreline, t)\n",
    "    for x, y in zip(test_coords[0], test_coords[1]):\n",
    "        for z in test_coords[2]:\n",
    "            cells_3D[x,y,z] = 1\n"
   ]
  },
  {
   "cell_type": "code",
   "execution_count": 143,
   "id": "be6ce99d-5dd8-4828-983a-aade0c1b33b3",
   "metadata": {},
   "outputs": [],
   "source": [
    "cells_3D = np.moveaxis(cells_3D, -1, 0)"
   ]
  },
  {
   "cell_type": "code",
   "execution_count": 71,
   "id": "7fa21030-26a5-4380-a08e-0ec0dbb86f19",
   "metadata": {
    "jupyter": {
     "source_hidden": true
    },
    "tags": []
   },
   "outputs": [],
   "source": [
    "from vtk.util import numpy_support\n",
    "import vtk\n",
    "import numpy as np\n",
    "\n",
    "data = cells_3D.reshape(37,223,1200)\n",
    "\n",
    "# vtkImageData is the vtk image volume type\n",
    "imdata = vtk.vtkImageData()\n",
    "# this is where the conversion happens\n",
    "depthArray = numpy_support.numpy_to_vtk(data.ravel(), deep=True, array_type=vtk.VTK_DOUBLE)\n",
    "\n",
    "# fill the vtk image data object\n",
    "imdata.SetDimensions(data.shape)\n",
    "imdata.SetSpacing([1,1,1])\n",
    "imdata.SetOrigin([0,0,0])\n",
    "imdata.GetPointData().SetScalars(depthArray)\n",
    "\n",
    "# f.ex. save it as mhd file\n",
    "writer = vtk.vtkMetaImageWriter()\n",
    "writer.SetFileName(\"test.mhd\")\n",
    "writer.SetInputData(imdata)\n",
    "writer.Write()"
   ]
  },
  {
   "cell_type": "code",
   "execution_count": 145,
   "id": "e7a7883a-fc93-4013-9a23-b4625c323aac",
   "metadata": {},
   "outputs": [
    {
     "data": {
      "text/plain": [
       "(37, 1200, 223)"
      ]
     },
     "execution_count": 145,
     "metadata": {},
     "output_type": "execute_result"
    }
   ],
   "source": [
    "cells_3D.shape"
   ]
  },
  {
   "cell_type": "code",
   "execution_count": 146,
   "id": "3563f976-46b0-48b3-a945-f4e33fac9c93",
   "metadata": {},
   "outputs": [
    {
     "data": {
      "text/plain": [
       "(37, 1200, 223)"
      ]
     },
     "execution_count": 146,
     "metadata": {},
     "output_type": "execute_result"
    }
   ],
   "source": [
    "cells_3D.shape"
   ]
  },
  {
   "cell_type": "code",
   "execution_count": 147,
   "id": "2905d9dc-bc57-421a-b08d-eb24f868a55b",
   "metadata": {},
   "outputs": [],
   "source": [
    "psf = psfm.make_psf(50, 50, dxy=0.065/3, dz=0.065/3, pz=0)\n",
    "#psf = np.moveaxis(psf, 0, -1)"
   ]
  },
  {
   "cell_type": "code",
   "execution_count": 148,
   "id": "c7fdeef2-fc72-4516-82bb-02124ebc5f90",
   "metadata": {},
   "outputs": [
    {
     "data": {
      "text/plain": [
       "<matplotlib.image.AxesImage at 0x7f39a72c6130>"
      ]
     },
     "execution_count": 148,
     "metadata": {},
     "output_type": "execute_result"
    },
    {
     "data": {
      "image/png": "[encoded data removed]",
      "text/plain": [
       "<Figure size 432x288 with 1 Axes>"
      ]
     },
     "metadata": {
      "needs_background": "light"
     },
     "output_type": "display_data"
    }
   ],
   "source": [
    "plt.imshow(np.log(psf[5]))"
   ]
  },
  {
   "cell_type": "code",
   "execution_count": 149,
   "id": "d85e3278-7ac8-4a38-b105-2b1b6b73c765",
   "metadata": {},
   "outputs": [],
   "source": [
    "convolved = convolve(cp.array(cells_3D), cp.array(psf))"
   ]
  },
  {
   "cell_type": "code",
   "execution_count": 150,
   "id": "714df969-2055-4db9-8a78-19999d6d042a",
   "metadata": {},
   "outputs": [],
   "source": [
    "convolved_CPU_3D = convolved.get()"
   ]
  },
  {
   "cell_type": "code",
   "execution_count": 177,
   "id": "4cd2469e-1857-4f60-b2e5-06b02183a453",
   "metadata": {},
   "outputs": [
    {
     "data": {
      "text/plain": [
       "<matplotlib.image.AxesImage at 0x7f39a5665400>"
      ]
     },
     "execution_count": 177,
     "metadata": {},
     "output_type": "execute_result"
    },
    {
     "data": {
      "image/png": "[encoded data removed]",
      "text/plain": [
       "<Figure size 432x288 with 1 Axes>"
      ]
     },
     "metadata": {
      "needs_background": "light"
     },
     "output_type": "display_data"
    }
   ],
   "source": [
    "plt.imshow(convolved_CPU_3D.sum(axis=0))"
   ]
  },
  {
   "cell_type": "code",
   "execution_count": 178,
   "id": "05a550b4-a8f5-4896-9687-749732c0867c",
   "metadata": {},
   "outputs": [],
   "source": [
    "convolved_CPU_2D = convolve(cp.array(cells_3D.sum(axis=0)), cp.array(psf.sum(axis=0))).get()"
   ]
  },
  {
   "cell_type": "code",
   "execution_count": 182,
   "id": "7c95ab5a-2f66-4669-862b-85c64749f362",
   "metadata": {},
   "outputs": [
    {
     "data": {
      "text/plain": [
       "Text(0.5, 1.0, '% diff')"
      ]
     },
     "execution_count": 182,
     "metadata": {},
     "output_type": "execute_result"
    },
    {
     "data": {
      "image/png": "[encoded data removed]",
      "text/plain": [
       "<Figure size 432x432 with 4 Axes>"
      ]
     },
     "metadata": {
      "needs_background": "light"
     },
     "output_type": "display_data"
    }
   ],
   "source": [
    "fig, (ax1, ax2, ax3) = plt.subplots(figsize=(6, 6), ncols=3)\n",
    "ax1.imshow(convolved_CPU_3D.sum(axis=0), cmap=\"Greys_r\")\n",
    "ax2.imshow(convolved_CPU_2D, cmap=\"Greys_r\")\n",
    "\n",
    "pos = ax3.imshow(abs(convolved_CPU_3D.sum(axis=0) - convolved_CPU_2D)/(convolved_CPU_3D.sum(axis=0)+1) * 100, cmap=\"Greys_r\")\n",
    "fig.colorbar(pos, ax=ax3)\n",
    "\n",
    "for ax in ((ax1, ax2, ax3)):\n",
    "    ax.axis(\"off\")\n",
    "    \n",
    "ax1.set_title(\"3D PSF\")\n",
    "ax2.set_title(\"2D PSF\")\n",
    "ax3.set_title(\"% diff\")"
   ]
  },
  {
   "cell_type": "code",
   "execution_count": null,
   "id": "08d539e3-9327-47f2-b356-cc9f0d766963",
   "metadata": {},
   "outputs": [],
   "source": []
  }
 ],
 "metadata": {
  "kernelspec": {
   "display_name": "Python 3 (ipykernel)",
   "language": "python",
   "name": "python3"
  },
  "language_info": {
   "codemirror_mode": {
    "name": "ipython",
    "version": 3
   },
   "file_extension": ".py",
   "mimetype": "text/x-python",
   "name": "python",
   "nbconvert_exporter": "python",
   "pygments_lexer": "ipython3",
   "version": "3.9.12"
  },
  "widgets": {
   "application/vnd.jupyter.widget-state+json": {
    "state": {
     "03f0ca04855c4d39a4b27748aff7f14d": {
      "model_module": "@jupyter-widgets/base",
      "model_module_version": "1.2.0",
      "model_name": "LayoutModel",
      "state": {}
     },
     "1cdf612dbf79435faad4bb35488dc8f9": {
      "model_module": "@jupyter-widgets/controls",
      "model_module_version": "1.5.0",
      "model_name": "HBoxModel",
      "state": {
       "children": [
        "IPY_MODEL_89437e2eb60c4349beba2d54e7542160",
        "IPY_MODEL_77375d71b4d34b248f3e2dcf1dd96a3f",
        "IPY_MODEL_ba51eed940c644fbb6dba8e988f89f67"
       ],
       "layout": "IPY_MODEL_52c68540572f4ba084da1a141931753f"
      }
     },
     "52c68540572f4ba084da1a141931753f": {
      "model_module": "@jupyter-widgets/base",
      "model_module_version": "1.2.0",
      "model_name": "LayoutModel",
      "state": {}
     },
     "6aed8a99f7ea45fcbc6e3b0c059ecc32": {
      "model_module": "@jupyter-widgets/controls",
      "model_module_version": "1.5.0",
      "model_name": "DescriptionStyleModel",
      "state": {
       "description_width": ""
      }
     },
     "6ee0204563bb4d87b48ebe2c16f5f10b": {
      "model_module": "@jupyter-widgets/controls",
      "model_module_version": "1.5.0",
      "model_name": "DescriptionStyleModel",
      "state": {
       "description_width": ""
      }
     },
     "748d8d681892404b88e801b9bd2d7f22": {
      "model_module": "@jupyter-widgets/base",
      "model_module_version": "1.2.0",
      "model_name": "LayoutModel",
      "state": {}
     },
     "77375d71b4d34b248f3e2dcf1dd96a3f": {
      "model_module": "@jupyter-widgets/controls",
      "model_module_version": "1.5.0",
      "model_name": "FloatProgressModel",
      "state": {
       "bar_style": "success",
       "layout": "IPY_MODEL_9fc08fdd70a14c2398f5646dcece0cb3",
       "max": 998,
       "style": "IPY_MODEL_b5c778e2370c4fa4a5921aae6cd3106c",
       "value": 998
      }
     },
     "89437e2eb60c4349beba2d54e7542160": {
      "model_module": "@jupyter-widgets/controls",
      "model_module_version": "1.5.0",
      "model_name": "HTMLModel",
      "state": {
       "layout": "IPY_MODEL_03f0ca04855c4d39a4b27748aff7f14d",
       "style": "IPY_MODEL_6ee0204563bb4d87b48ebe2c16f5f10b",
       "value": "Scene Draw:: 100%"
      }
     },
     "9fc08fdd70a14c2398f5646dcece0cb3": {
      "model_module": "@jupyter-widgets/base",
      "model_module_version": "1.2.0",
      "model_name": "LayoutModel",
      "state": {}
     },
     "b5c778e2370c4fa4a5921aae6cd3106c": {
      "model_module": "@jupyter-widgets/controls",
      "model_module_version": "1.5.0",
      "model_name": "ProgressStyleModel",
      "state": {
       "description_width": ""
      }
     },
     "ba51eed940c644fbb6dba8e988f89f67": {
      "model_module": "@jupyter-widgets/controls",
      "model_module_version": "1.5.0",
      "model_name": "HTMLModel",
      "state": {
       "layout": "IPY_MODEL_748d8d681892404b88e801b9bd2d7f22",
       "style": "IPY_MODEL_6aed8a99f7ea45fcbc6e3b0c059ecc32",
       "value": " 998/998 [00:15&lt;00:00, 71.23it/s]"
      }
     }
    },
    "version_major": 2,
    "version_minor": 0
   }
  }
 },
 "nbformat": 4,
 "nbformat_minor": 5
}
