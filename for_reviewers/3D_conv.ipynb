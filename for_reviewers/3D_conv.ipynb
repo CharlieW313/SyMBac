{
 "cells": [
  {
   "cell_type": "code",
   "execution_count": 1,
   "id": "c26e8ccd-ca9f-452b-9231-a80088bf9bdc",
   "metadata": {},
   "outputs": [],
   "source": [
    "from SyMBac.phase_contrast_drawing import run_simulation, get_trench_segments, draw_scene\n",
    "from SyMBac.general_drawing import generate_curve_props, gen_cell_props_for_draw, get_space_size, convolve_rescale\n",
    "import numpy as np\n",
    "import matplotlib.pyplot as plt\n",
    "import napari\n",
    "import pickle\n"
   ]
  },
  {
   "cell_type": "code",
   "execution_count": 2,
   "id": "aab4383c-29e8-4788-9f98-58d2663badb5",
   "metadata": {},
   "outputs": [],
   "source": [
    "resize_amount = 3\n",
    "pix_mic_conv = 0.0655 ##0.108379937 micron/pix for 60x, 0.0655 for 100x\n",
    "scale = pix_mic_conv / resize_amount \n",
    "sim_length = 50"
   ]
  },
  {
   "cell_type": "code",
   "execution_count": 3,
   "id": "4c1d0712-0726-48d2-95eb-645474b0357e",
   "metadata": {},
   "outputs": [],
   "source": [
    "cell_timeseries_properties_file = open(\"../docs/source/docs_notebooks/cell_timeseries_properties.p\", \"rb\")\n",
    "cell_timeseries_properties = pickle.load(cell_timeseries_properties_file)\n",
    "cell_timeseries_properties_file.close()\n",
    "\n",
    "main_segments_file = open(\"../docs/source/docs_notebooks/main_segments.p\", \"rb\")\n",
    "main_segments = pickle.load(main_segments_file)\n",
    "main_segments_file.close()"
   ]
  },
  {
   "cell_type": "code",
   "execution_count": 4,
   "id": "dd7ed555-a165-4013-a8ae-4d9f0ef25c3b",
   "metadata": {},
   "outputs": [
    {
     "data": {
      "application/vnd.jupyter.widget-view+json": {
       "model_id": "01e07b11495c4210be4c33e2b105e546",
       "version_major": 2,
       "version_minor": 0
      },
      "text/plain": [
       "Scene Draw::   0%|          | 0/998 [00:00<?, ?it/s]"
      ]
     },
     "metadata": {},
     "output_type": "display_data"
    }
   ],
   "source": [
    "from joblib import Parallel, delayed\n",
    "from tqdm.notebook import tqdm\n",
    "\n",
    "do_transformation = True\n",
    "offset = 30\n",
    "label_masks = True\n",
    "space_size = get_space_size(cell_timeseries_properties)\n",
    "scenes = Parallel(n_jobs=-1)(delayed(draw_scene)(\n",
    "    cell_properties, do_transformation, space_size, offset, label_masks) for cell_properties in tqdm(cell_timeseries_properties, desc='Scene Draw:'))"
   ]
  },
  {
   "cell_type": "code",
   "execution_count": 26,
   "id": "93f0bd10-7109-4d2d-b4ac-bfa46d70e045",
   "metadata": {},
   "outputs": [],
   "source": [
    "scenes_array = np.array(scenes)"
   ]
  },
  {
   "cell_type": "code",
   "execution_count": 78,
   "id": "93cfb167-2216-4858-93b7-21b990138a94",
   "metadata": {},
   "outputs": [],
   "source": [
    "cells = scenes_array[:,0,:,:]*1.5"
   ]
  },
  {
   "cell_type": "code",
   "execution_count": 79,
   "id": "ca9f296c-31a0-4761-be3d-f77e7a5f5161",
   "metadata": {},
   "outputs": [],
   "source": [
    "volume_shape = cells.shape[1:] + (int(cells.max()),)"
   ]
  },
  {
   "cell_type": "code",
   "execution_count": 80,
   "id": "9740a0b1-e4dc-406e-9852-14df94c82e43",
   "metadata": {},
   "outputs": [],
   "source": [
    "test_cells = np.round(cells[-1])"
   ]
  },
  {
   "cell_type": "code",
   "execution_count": 81,
   "id": "9a31967c-402a-4fcd-a44f-a254fb4dd78d",
   "metadata": {},
   "outputs": [],
   "source": [
    "centreline = int(cells.max()/2)"
   ]
  },
  {
   "cell_type": "code",
   "execution_count": 82,
   "id": "4c24c94f-3a77-4038-a0b4-371ff82fe7d1",
   "metadata": {},
   "outputs": [
    {
     "data": {
      "text/plain": [
       "<matplotlib.image.AxesImage at 0x7f31ea652ee0>"
      ]
     },
     "execution_count": 82,
     "metadata": {},
     "output_type": "execute_result"
    },
    {
     "data": {
      "image/png": "[encoded data removed]",
      "text/plain": [
       "<Figure size 432x288 with 1 Axes>"
      ]
     },
     "metadata": {
      "needs_background": "light"
     },
     "output_type": "display_data"
    }
   ],
   "source": [
    "plt.imshow(test_cells)"
   ]
  },
  {
   "cell_type": "code",
   "execution_count": 83,
   "id": "c2719d19-e7af-40b9-82ef-f46e9d29ff22",
   "metadata": {},
   "outputs": [],
   "source": [
    "cells_3D = np.zeros(volume_shape)"
   ]
  },
  {
   "cell_type": "code",
   "execution_count": 85,
   "id": "4e629ced-638e-4f97-af2b-660ba979689c",
   "metadata": {},
   "outputs": [],
   "source": [
    "def generate_deviation_from_CL(centreline, thickness):\n",
    "    return np.arange(thickness)+centreline - int(np.ceil(thickness/2))"
   ]
  },
  {
   "cell_type": "code",
   "execution_count": 86,
   "id": "ad093d6d-25b4-4adf-b048-20b89e0ff461",
   "metadata": {},
   "outputs": [],
   "source": [
    "def gen_3D_coords_from_2D(centreline, thickness):\n",
    "    return np.where(test_cells==thickness) + (generate_deviation_from_CL(centreline, thickness),)"
   ]
  },
  {
   "cell_type": "code",
   "execution_count": 87,
   "id": "937119dc-97b0-44e5-aa0b-25185d98cd4e",
   "metadata": {},
   "outputs": [],
   "source": [
    "for t in range(int(cells.max()*2)):\n",
    "    test_coords = gen_3D_coords_from_2D(centreline, t)\n",
    "    for x, y in zip(test_coords[0], test_coords[1]):\n",
    "        for z in test_coords[2]:\n",
    "            cells_3D[x,y,z] = 1"
   ]
  },
  {
   "cell_type": "code",
   "execution_count": null,
   "id": "dc7f63dd-a5fa-476f-b498-f62d39cf577d",
   "metadata": {},
   "outputs": [],
   "source": []
  },
  {
   "cell_type": "code",
   "execution_count": 92,
   "id": "be6ce99d-5dd8-4828-983a-aade0c1b33b3",
   "metadata": {},
   "outputs": [
    {
     "data": {
      "text/plain": [
       "(1200, 223, 37)"
      ]
     },
     "execution_count": 92,
     "metadata": {},
     "output_type": "execute_result"
    }
   ],
   "source": [
    "cells_3D.shape"
   ]
  },
  {
   "cell_type": "code",
   "execution_count": 93,
   "id": "7fa21030-26a5-4380-a08e-0ec0dbb86f19",
   "metadata": {
    "jupyter": {
     "source_hidden": true
    },
    "tags": []
   },
   "outputs": [],
   "source": [
    "from vtk.util import numpy_support\n",
    "import vtk\n",
    "import numpy as np\n",
    "\n",
    "data = cells_3D.reshape(37,223,1200)\n",
    "\n",
    "# vtkImageData is the vtk image volume type\n",
    "imdata = vtk.vtkImageData()\n",
    "# this is where the conversion happens\n",
    "depthArray = numpy_support.numpy_to_vtk(data.ravel(), deep=True, array_type=vtk.VTK_DOUBLE)\n",
    "\n",
    "# fill the vtk image data object\n",
    "imdata.SetDimensions(data.shape)\n",
    "imdata.SetSpacing([1,1,1])\n",
    "imdata.SetOrigin([0,0,0])\n",
    "imdata.GetPointData().SetScalars(depthArray)\n",
    "\n",
    "# f.ex. save it as mhd file\n",
    "writer = vtk.vtkMetaImageWriter()\n",
    "writer.SetFileName(\"test.mhd\")\n",
    "writer.SetInputData(imdata)\n",
    "writer.Write()"
   ]
  },
  {
   "cell_type": "code",
   "execution_count": 94,
   "id": "e7a7883a-fc93-4013-9a23-b4625c323aac",
   "metadata": {},
   "outputs": [
    {
     "data": {
      "text/plain": [
       "<matplotlib.image.AxesImage at 0x7f31ead4a370>"
      ]
     },
     "execution_count": 94,
     "metadata": {},
     "output_type": "execute_result"
    },
    {
     "data": {
      "image/png": "[encoded data removed]",
      "text/plain": [
       "<Figure size 432x288 with 1 Axes>"
      ]
     },
     "metadata": {
      "needs_background": "light"
     },
     "output_type": "display_data"
    }
   ],
   "source": [
    "plt.imshow(cells_3D.sum(axis=2))"
   ]
  },
  {
   "cell_type": "code",
   "execution_count": 91,
   "id": "1e6fb7c7-c6ad-4a9a-8b6b-53bffbb50e38",
   "metadata": {},
   "outputs": [],
   "source": [
    "import napari\n",
    "\n",
    "viewer = napari.view_image(cells_3D)\n",
    "napari.run()  # start the event loop and show viewer"
   ]
  },
  {
   "cell_type": "code",
   "execution_count": null,
   "id": "2905d9dc-bc57-421a-b08d-eb24f868a55b",
   "metadata": {},
   "outputs": [],
   "source": []
  },
  {
   "cell_type": "code",
   "execution_count": null,
   "id": "d85e3278-7ac8-4a38-b105-2b1b6b73c765",
   "metadata": {},
   "outputs": [],
   "source": []
  }
 ],
 "metadata": {
  "kernelspec": {
   "display_name": "Python 3 (ipykernel)",
   "language": "python",
   "name": "python3"
  },
  "language_info": {
   "codemirror_mode": {
    "name": "ipython",
    "version": 3
   },
   "file_extension": ".py",
   "mimetype": "text/x-python",
   "name": "python",
   "nbconvert_exporter": "python",
   "pygments_lexer": "ipython3",
   "version": "3.10.4"
  },
  "widgets": {
   "application/vnd.jupyter.widget-state+json": {
    "state": {
     "00e7c7282b4a40f0afa7c705f658185d": {
      "model_module": "@jupyter-widgets/base",
      "model_module_version": "1.2.0",
      "model_name": "LayoutModel",
      "state": {}
     },
     "018b641a6ca049fa8df6fee3408c64ea": {
      "model_module": "@jupyter-widgets/controls",
      "model_module_version": "1.5.0",
      "model_name": "HTMLModel",
      "state": {
       "layout": "IPY_MODEL_649ddbd338ca47d49d108958edc7beee",
       "style": "IPY_MODEL_296021a0a4a147b88303e93aa9598f1b",
       "value": "Scene Draw:: 100%"
      }
     },
     "01e07b11495c4210be4c33e2b105e546": {
      "model_module": "@jupyter-widgets/controls",
      "model_module_version": "1.5.0",
      "model_name": "HBoxModel",
      "state": {
       "children": [
        "IPY_MODEL_018b641a6ca049fa8df6fee3408c64ea",
        "IPY_MODEL_050ae5f8696749aa9f3a0fca6d630d60",
        "IPY_MODEL_02c95f03569d408e8b79bf93ea518321"
       ],
       "layout": "IPY_MODEL_b17d073c1761493dbc95c0aaf0f70b46"
      }
     },
     "02c95f03569d408e8b79bf93ea518321": {
      "model_module": "@jupyter-widgets/controls",
      "model_module_version": "1.5.0",
      "model_name": "HTMLModel",
      "state": {
       "layout": "IPY_MODEL_548776d2585046ceb2d37e7eb953f96b",
       "style": "IPY_MODEL_0347aba423ec4007ac33af1231def2ef",
       "value": " 998/998 [00:14&lt;00:00, 75.63it/s]"
      }
     },
     "0347aba423ec4007ac33af1231def2ef": {
      "model_module": "@jupyter-widgets/controls",
      "model_module_version": "1.5.0",
      "model_name": "DescriptionStyleModel",
      "state": {
       "description_width": ""
      }
     },
     "050ae5f8696749aa9f3a0fca6d630d60": {
      "model_module": "@jupyter-widgets/controls",
      "model_module_version": "1.5.0",
      "model_name": "FloatProgressModel",
      "state": {
       "bar_style": "success",
       "layout": "IPY_MODEL_00e7c7282b4a40f0afa7c705f658185d",
       "max": 998,
       "style": "IPY_MODEL_32daab737588486d8b84b81f1748b117",
       "value": 998
      }
     },
     "296021a0a4a147b88303e93aa9598f1b": {
      "model_module": "@jupyter-widgets/controls",
      "model_module_version": "1.5.0",
      "model_name": "DescriptionStyleModel",
      "state": {
       "description_width": ""
      }
     },
     "32daab737588486d8b84b81f1748b117": {
      "model_module": "@jupyter-widgets/controls",
      "model_module_version": "1.5.0",
      "model_name": "ProgressStyleModel",
      "state": {
       "description_width": ""
      }
     },
     "548776d2585046ceb2d37e7eb953f96b": {
      "model_module": "@jupyter-widgets/base",
      "model_module_version": "1.2.0",
      "model_name": "LayoutModel",
      "state": {}
     },
     "649ddbd338ca47d49d108958edc7beee": {
      "model_module": "@jupyter-widgets/base",
      "model_module_version": "1.2.0",
      "model_name": "LayoutModel",
      "state": {}
     },
     "b17d073c1761493dbc95c0aaf0f70b46": {
      "model_module": "@jupyter-widgets/base",
      "model_module_version": "1.2.0",
      "model_name": "LayoutModel",
      "state": {}
     }
    },
    "version_major": 2,
    "version_minor": 0
   }
  }
 },
 "nbformat": 4,
 "nbformat_minor": 5
}
