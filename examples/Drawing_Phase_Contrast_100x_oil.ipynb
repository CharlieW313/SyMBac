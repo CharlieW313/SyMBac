{
 "cells": [
  {
   "cell_type": "markdown",
   "id": "b7b91bac-bf4d-4f4d-83bc-2fe25972de3a",
   "metadata": {
    "pycharm": {
     "name": "#%% md\n"
    }
   },
   "source": [
    "# SyMBac Example Notebook 1\n",
    "\n",
    "Drawing 100x images of _E. coli_ in the mother machine"
   ]
  },
  {
   "cell_type": "markdown",
   "id": "e1c27093-f392-4a19-9f9f-b8e6eb8ab6a2",
   "metadata": {
    "pycharm": {
     "name": "#%% md\n"
    }
   },
   "source": [
    "### Imports"
   ]
  },
  {
   "cell_type": "code",
   "execution_count": 1,
   "id": "3704125e",
   "metadata": {
    "pycharm": {
     "is_executing": true,
     "name": "#%%\n"
    },
    "tags": []
   },
   "outputs": [],
   "source": [
    "from joblib import Parallel, delayed\n",
    "from matplotlib import pyplot as plt\n",
    "\n",
    "\n",
    "from SyMBac.PSF import get_phase_contrast_kernel, get_condensers\n",
    "from SyMBac.misc import get_sample_images\n",
    "from SyMBac.general_drawing import generate_curve_props, gen_cell_props_for_draw, get_space_size, convolve_rescale, \\\n",
    "    make_images_same_shape\n",
    "\n",
    "import napari\n",
    "\n",
    "import numpy as np\n",
    "from ipywidgets import interactive, fixed\n",
    "from tqdm.notebook import tqdm\n",
    "\n",
    "import importlib\n",
    "\n",
    "from SyMBac.phase_contrast_drawing import run_simulation, get_trench_segments, draw_scene, generate_PC_OPL, \\\n",
    "    generate_test_comparison, generate_training_data\n",
    "\n",
    "if importlib.util.find_spec(\"cupy\") is None:\n",
    "    manual_update = True\n",
    "else:\n",
    "    manual_update = False"
   ]
  },
  {
   "cell_type": "markdown",
   "id": "32a60e00-ad7e-431c-ba4c-b4fb7c3bc35d",
   "metadata": {
    "pycharm": {
     "name": "#%% md\n"
    }
   },
   "source": [
    "## Load a real image\n",
    "\n",
    "* Make sure this image is somewhat representative of the data you want to simulate. The simulated data will have the same dimensions as the example image.\n",
    "* Also you will try to match the similarity of your synthetic images to this real image."
   ]
  },
  {
   "cell_type": "code",
   "execution_count": 2,
   "id": "d341d240-ec00-43cd-9db8-26b65849ddc9",
   "metadata": {
    "pycharm": {
     "name": "#%%\n"
    }
   },
   "outputs": [
    {
     "name": "stdout",
     "output_type": "stream",
     "text": [
      "(256, 46)\n"
     ]
    },
    {
     "data": {
      "image/png": "[encoded data removed]",
      "text/plain": [
       "<Figure size 432x288 with 1 Axes>"
      ]
     },
     "metadata": {
      "needs_background": "light"
     },
     "output_type": "display_data"
    }
   ],
   "source": [
    "real_image = get_sample_images()[\"E. coli 100x\"]\n",
    "print(real_image.shape)\n",
    "plt.imshow(real_image,cmap=\"Greys_r\")\n",
    "plt.show()"
   ]
  },
  {
   "cell_type": "markdown",
   "id": "fa476171-0ee2-4c5c-af18-a7fdf33e9374",
   "metadata": {
    "pycharm": {
     "name": "#%% md\n"
    }
   },
   "source": [
    "## Scope properties\n",
    "\n",
    "Here we input the scope properties:\n",
    "* `W`, `R` and `diameter` are the dimensions (in mm) of the phase ring, retrieved from `get_condensers()`.\n",
    "* `λ` is the wavelength of the imaging light (in micron).\n",
    "* `resize_amount` is an **important** variable. This defines the internal resolution scaling of the rendering. If you choose a `resize_amount` of 3, then the point spread function (PSF) and all cell images are rendered at 3x the native imaging resolution, then downsampled back to the real resolution. \n",
    "* A `resize_amount` of $>2$ is recommended. If it's too low then the PSF is too low resolution, and therefore doesn't capture the desired information (oscillating phase and airy rings).\n",
    "* `pix_mic_conv` is the size of the pixels in the image (micron/pix)\n",
    "* `scale` is the pixel size that the PSF and all rendering will be done at, therefore it's set to `pix_mic_conv / resize_amount` by default.\n",
    "* `min_sigma` is a lower bound for the gaussian apodisation of the PSF. This variable isn't really important as you'll change it with the sliders at the end.\n",
    "* `NA` is the numerical aperture of the objective lens.\n",
    "* `n` is the refractive index of the imaging medium\n",
    "\n",
    "These parameters are then thrown into a `kernel_params` tuple."
   ]
  },
  {
   "cell_type": "code",
   "execution_count": 3,
   "id": "51cc96ea-77be-4860-8f5d-eb0aaa1f4686",
   "metadata": {
    "pycharm": {
     "name": "#%%\n"
    }
   },
   "outputs": [],
   "source": [
    "condensers = get_condensers()\n",
    "W, R, diameter = condensers[\"Ph3\"]\n",
    "radius=50\n",
    "#F = 5\n",
    "λ = 0.75\n",
    "resize_amount = 3\n",
    "pix_mic_conv = 0.0655 ##0.108379937 micron/pix for 60x, 0.0655 for 100x\n",
    "scale = pix_mic_conv / resize_amount \n",
    "min_sigma = 0.42*0.6/6 / scale # micron#\n",
    "sigma=min_sigma\n",
    "NA=1.45\n",
    "n = 1.4\n",
    "kernel_params = (R,W,radius,scale,NA,n,sigma,λ)\n",
    "\n",
    "#kernel_params = (R,W,radius,scale,F,sigma,λ)\n"
   ]
  },
  {
   "cell_type": "markdown",
   "id": "87dffa43-0e61-4e4f-b1eb-c0da59ddbd4c",
   "metadata": {
    "pycharm": {
     "name": "#%% md\n"
    }
   },
   "source": [
    "## Run the simulation\n",
    "\n",
    "Here we actually run the simulation of cell growth in the mother machine. \n",
    "\n",
    "* `sim_length` is the number of simulation frames to run.\n",
    "* `trench_length` is the length of the mother machine trench in micron.\n",
    "* `trench_width` is the width of the mother machine trench in micron.\n",
    "* `cell_max_length` is the mean maximum length of a cell in micron.\n",
    "* `cell_width` is the mean cell width in micron.\n",
    "* `gravity` is a parameter which can be used to add or remove pressure of cells on one another. This is useful if for some reason cells in your simulation are falling into each other (although you should change `phys_iters` first if this is happening).\n",
    "* `phys_iters` is the number of physics iterations per frame. 20 is a good starting point.\n",
    "* `max_length_var` is the variance of the mean maximum cell length. Don't make it too high, or some cells could have birth lengths greater than the mother length, or negative lengths. \n",
    "* `width_var` is the variance of the mean cell width\n",
    "* `save_dir` is the directory to save the simulation output if you want to analyse it later, or with other code.\n",
    "* `do_transformation` is a `bool` that decides whether cells are given a curve after the simulation, during rendering. \n",
    "\n",
    "If you don't like the way the simulation looks **restart the kernel** and try new parameters. I've found that for large deviations in cell length and width, and small deviations in trench length and width, a standard U-net implementation is very robust, so you really only need to guess these paramters for good training data."
   ]
  },
  {
   "cell_type": "code",
   "execution_count": 4,
   "id": "621dbe9f-5640-4bdd-812c-f96a6c24965c",
   "metadata": {
    "jupyter": {
     "outputs_hidden": true
    },
    "pycharm": {
     "name": "#%%\n"
    },
    "tags": []
   },
   "outputs": [
    {
     "data": {
      "application/vnd.jupyter.widget-view+json": {
       "model_id": "4a18f87e194a45ecb63bc61a0662e8f4",
       "version_major": 2,
       "version_minor": 0
      },
      "text/plain": [
       "Timeseries Properties:   0%|          | 0/300 [00:00<?, ?it/s]"
      ]
     },
     "metadata": {},
     "output_type": "display_data"
    },
    {
     "data": {
      "application/vnd.jupyter.widget-view+json": {
       "model_id": "255381854f4e4707bdee12e30332789b",
       "version_major": 2,
       "version_minor": 0
      },
      "text/plain": [
       "Scene Draw::   0%|          | 0/300 [00:00<?, ?it/s]"
      ]
     },
     "metadata": {},
     "output_type": "display_data"
    }
   ],
   "source": [
    "sim_length = 302\n",
    "cell_timeseries, space = run_simulation(\n",
    "    trench_length=15, \n",
    "    trench_width=1.5, \n",
    "    cell_max_length=6, #6, long cells # 1.65 short cells\n",
    "    cell_width= 1, #1 long cells # 0.95 short cells\n",
    "    sim_length = sim_length,\n",
    "    pix_mic_conv = pix_mic_conv,\n",
    "    gravity=0,\n",
    "    phys_iters=20,\n",
    "    max_length_var = 3,\n",
    "    width_var = 0.3,\n",
    "    lysis_p = 0.003,  # this should somehow depends on the time\n",
    "    save_dir=\"F:/Cambridge/MENG/UROP 2022/Data/SyMBac/cell_sim/\"\n",
    ") # growth phase\n",
    "main_segments = get_trench_segments(space)\n",
    "ID_props = generate_curve_props(cell_timeseries)\n",
    "#cell_timeseries_properties = Parallel(n_jobs=1)(\n",
    "#    delayed(gen_cell_props_for_draw)(a, ID_props) for a in tqdm(cell_timeseries, desc='Timeseries Properties'))\n",
    "cell_timeseries_properties = Parallel(n_jobs=-1)(\n",
    "    delayed(gen_cell_props_for_draw)(a, ID_props) for a in tqdm(cell_timeseries, desc='Timeseries Properties'))\n",
    "do_transformation = True\n",
    "offset = 30\n",
    "label_masks = True\n",
    "space_size = get_space_size(cell_timeseries_properties)\n",
    "#scenes = Parallel(n_jobs=1)(delayed(draw_scene)(\n",
    "#    cell_properties, do_transformation, space_size, offset, label_masks) for cell_properties in tqdm(cell_timeseries_properties, desc='Scene Draw:'))\n",
    "scenes = Parallel(n_jobs=13)(delayed(draw_scene)(\n",
    "    cell_properties, do_transformation, space_size, offset, label_masks) for cell_properties in tqdm(cell_timeseries_properties, desc='Scene Draw:'))"
   ]
  },
  {
   "cell_type": "code",
   "execution_count": 5,
   "id": "4b78cb72",
   "metadata": {},
   "outputs": [
    {
     "data": {
      "text/plain": [
       "[[<SyMBac.cell.Cell at 0x24f8576c130>],\n",
       " [<SyMBac.cell.Cell at 0x24f8575ad00>],\n",
       " [<SyMBac.cell.Cell at 0x24f8581b280>],\n",
       " [<SyMBac.cell.Cell at 0x24f8589ad00>],\n",
       " [<SyMBac.cell.Cell at 0x24f85824070>],\n",
       " [<SyMBac.cell.Cell at 0x24f858e5f10>],\n",
       " [<SyMBac.cell.Cell at 0x24f85932df0>],\n",
       " [<SyMBac.cell.Cell at 0x24f8597ecd0>],\n",
       " [<SyMBac.cell.Cell at 0x24f85a15790>],\n",
       " [<SyMBac.cell.Cell at 0x24f857a5be0>],\n",
       " [<SyMBac.cell.Cell at 0x24f857bc8e0>],\n",
       " [<SyMBac.cell.Cell at 0x24f85a61ac0>],\n",
       " [<SyMBac.cell.Cell at 0x24f85a969a0>],\n",
       " [<SyMBac.cell.Cell at 0x24f862d9880>],\n",
       " [<SyMBac.cell.Cell at 0x24f86320760>],\n",
       " [<SyMBac.cell.Cell at 0x24f8636c640>],\n",
       " [<SyMBac.cell.Cell at 0x24f863b5520>],\n",
       " [<SyMBac.cell.Cell at 0x24f86407400>],\n",
       " [<SyMBac.cell.Cell at 0x24f864572e0>],\n",
       " [<SyMBac.cell.Cell at 0x24f864a31c0>],\n",
       " [<SyMBac.cell.Cell at 0x24f864ea0a0>],\n",
       " [<SyMBac.cell.Cell at 0x24f86521f40>],\n",
       " [<SyMBac.cell.Cell at 0x24f8656ee20>],\n",
       " [<SyMBac.cell.Cell at 0x24f865ae7f0>],\n",
       " [<SyMBac.cell.Cell at 0x24f865eb880>],\n",
       " [<SyMBac.cell.Cell at 0x24f8662f760>],\n",
       " [<SyMBac.cell.Cell at 0x24f8667c640>],\n",
       " [<SyMBac.cell.Cell at 0x24f866c6520>],\n",
       " [<SyMBac.cell.Cell at 0x24f86712400>],\n",
       " [<SyMBac.cell.Cell at 0x24f867642e0>],\n",
       " [<SyMBac.cell.Cell at 0x24f867ae1c0>],\n",
       " [<SyMBac.cell.Cell at 0x24f867f60a0>],\n",
       " [<SyMBac.cell.Cell at 0x24f8682ef40>],\n",
       " [<SyMBac.cell.Cell at 0x24f86878e20>],\n",
       " [<SyMBac.cell.Cell at 0x24f868c2d00>],\n",
       " [<SyMBac.cell.Cell at 0x24f8690cbe0>],\n",
       " [<SyMBac.cell.Cell at 0x24f86666970>],\n",
       " [<SyMBac.cell.Cell at 0x24f8698ed90>],\n",
       " [<SyMBac.cell.Cell at 0x24f86a232e0>, <SyMBac.cell.Cell at 0x24f86a23460>],\n",
       " [<SyMBac.cell.Cell at 0x24f86a23070>, <SyMBac.cell.Cell at 0x24f868aefa0>],\n",
       " [<SyMBac.cell.Cell at 0x24f8576c4f0>, <SyMBac.cell.Cell at 0x24f86ab42b0>],\n",
       " [<SyMBac.cell.Cell at 0x24f8576ccd0>, <SyMBac.cell.Cell at 0x24f87ad3190>],\n",
       " [<SyMBac.cell.Cell at 0x24f8576cac0>, <SyMBac.cell.Cell at 0x24f87b1a040>],\n",
       " [<SyMBac.cell.Cell at 0x24f8576cf40>, <SyMBac.cell.Cell at 0x24f87b54f10>],\n",
       " [<SyMBac.cell.Cell at 0x24f8576c040>, <SyMBac.cell.Cell at 0x24f87b9edf0>],\n",
       " [<SyMBac.cell.Cell at 0x24f8576c6d0>, <SyMBac.cell.Cell at 0x24f87be7cd0>],\n",
       " [<SyMBac.cell.Cell at 0x24f86ab42e0>, <SyMBac.cell.Cell at 0x24f87c32bb0>],\n",
       " [<SyMBac.cell.Cell at 0x24f8576cdf0>, <SyMBac.cell.Cell at 0x24f87c7ea90>],\n",
       " [<SyMBac.cell.Cell at 0x24f86a23490>, <SyMBac.cell.Cell at 0x24f87cc8970>],\n",
       " [<SyMBac.cell.Cell at 0x24f8576c1c0>, <SyMBac.cell.Cell at 0x24f87d14850>],\n",
       " [<SyMBac.cell.Cell at 0x24f8576c070>, <SyMBac.cell.Cell at 0x24f87d60790>],\n",
       " [<SyMBac.cell.Cell at 0x24f86878b20>, <SyMBac.cell.Cell at 0x24f87dab670>],\n",
       " [<SyMBac.cell.Cell at 0x24f87be7b50>, <SyMBac.cell.Cell at 0x24f87de0130>],\n",
       " [<SyMBac.cell.Cell at 0x24f8576c1f0>, <SyMBac.cell.Cell at 0x24f87e10fd0>],\n",
       " [<SyMBac.cell.Cell at 0x24f8576c580>, <SyMBac.cell.Cell at 0x24f87e5beb0>],\n",
       " [<SyMBac.cell.Cell at 0x24f87ad3070>, <SyMBac.cell.Cell at 0x24f87ea5d90>],\n",
       " [<SyMBac.cell.Cell at 0x24f8576c550>, <SyMBac.cell.Cell at 0x24f87eedc70>],\n",
       " [<SyMBac.cell.Cell at 0x24f87e17040>, <SyMBac.cell.Cell at 0x24f87f38b50>],\n",
       " [<SyMBac.cell.Cell at 0x24f87d606d0>, <SyMBac.cell.Cell at 0x24f87f82a30>],\n",
       " [<SyMBac.cell.Cell at 0x24f8576c880>, <SyMBac.cell.Cell at 0x24f87fcd910>],\n",
       " [<SyMBac.cell.Cell at 0x24f87d60640>, <SyMBac.cell.Cell at 0x24f880187f0>],\n",
       " [<SyMBac.cell.Cell at 0x24f87ea5ca0>, <SyMBac.cell.Cell at 0x24f880626d0>],\n",
       " [<SyMBac.cell.Cell at 0x24f86a23310>, <SyMBac.cell.Cell at 0x24f880ac5b0>],\n",
       " [<SyMBac.cell.Cell at 0x24f87f38a90>, <SyMBac.cell.Cell at 0x24f880f7490>],\n",
       " [<SyMBac.cell.Cell at 0x24f87eedb50>, <SyMBac.cell.Cell at 0x24f88142370>],\n",
       " [<SyMBac.cell.Cell at 0x24f87f38af0>, <SyMBac.cell.Cell at 0x24f8818f250>],\n",
       " [<SyMBac.cell.Cell at 0x24f87f82970>, <SyMBac.cell.Cell at 0x24f881e1130>],\n",
       " [<SyMBac.cell.Cell at 0x24f87fcd7f0>, <SyMBac.cell.Cell at 0x24f88217fd0>],\n",
       " [<SyMBac.cell.Cell at 0x24f87eedb80>, <SyMBac.cell.Cell at 0x24f8825fe20>],\n",
       " [<SyMBac.cell.Cell at 0x24f8818f160>, <SyMBac.cell.Cell at 0x24f882a17f0>],\n",
       " [<SyMBac.cell.Cell at 0x24f87f82910>, <SyMBac.cell.Cell at 0x24f882d26d0>],\n",
       " [<SyMBac.cell.Cell at 0x24f87f38a60>, <SyMBac.cell.Cell at 0x24f883205b0>],\n",
       " [<SyMBac.cell.Cell at 0x24f87f82a60>, <SyMBac.cell.Cell at 0x24f8836a490>],\n",
       " [<SyMBac.cell.Cell at 0x24f88217eb0>, <SyMBac.cell.Cell at 0x24f883b3370>],\n",
       " [<SyMBac.cell.Cell at 0x24f881e1160>, <SyMBac.cell.Cell at 0x24f883ff250>],\n",
       " [<SyMBac.cell.Cell at 0x24f882a1760>, <SyMBac.cell.Cell at 0x24f8844c130>],\n",
       " [<SyMBac.cell.Cell at 0x24f88217f70>, <SyMBac.cell.Cell at 0x24f88486fd0>],\n",
       " [<SyMBac.cell.Cell at 0x24f882a1700>, <SyMBac.cell.Cell at 0x24f884cfeb0>],\n",
       " [<SyMBac.cell.Cell at 0x24f8836a3a0>, <SyMBac.cell.Cell at 0x24f88519d90>],\n",
       " [<SyMBac.cell.Cell at 0x24f88320490>,\n",
       "  <SyMBac.cell.Cell at 0x24f8844c0d0>,\n",
       "  <SyMBac.cell.Cell at 0x24f88564fa0>],\n",
       " [<SyMBac.cell.Cell at 0x24f88564d00>,\n",
       "  <SyMBac.cell.Cell at 0x24f88564c70>,\n",
       "  <SyMBac.cell.Cell at 0x24f88564c40>],\n",
       " [<SyMBac.cell.Cell at 0x24f885c02b0>,\n",
       "  <SyMBac.cell.Cell at 0x24f885c02e0>,\n",
       "  <SyMBac.cell.Cell at 0x24f880186d0>],\n",
       " [<SyMBac.cell.Cell at 0x24f8860d250>,\n",
       "  <SyMBac.cell.Cell at 0x24f883b3280>,\n",
       "  <SyMBac.cell.Cell at 0x24f88564bb0>],\n",
       " [<SyMBac.cell.Cell at 0x24f886503d0>,\n",
       "  <SyMBac.cell.Cell at 0x24f886502e0>,\n",
       "  <SyMBac.cell.Cell at 0x24f883ff130>],\n",
       " [<SyMBac.cell.Cell at 0x24f8869a4c0>,\n",
       "  <SyMBac.cell.Cell at 0x24f8860d3a0>,\n",
       "  <SyMBac.cell.Cell at 0x24f88564df0>],\n",
       " [<SyMBac.cell.Cell at 0x24f886e2610>,\n",
       "  <SyMBac.cell.Cell at 0x24f882d2610>,\n",
       "  <SyMBac.cell.Cell at 0x24f885c0430>],\n",
       " [<SyMBac.cell.Cell at 0x24f8872d790>,\n",
       "  <SyMBac.cell.Cell at 0x24f8872d7c0>,\n",
       "  <SyMBac.cell.Cell at 0x24f8869a490>],\n",
       " [<SyMBac.cell.Cell at 0x24f887758e0>,\n",
       "  <SyMBac.cell.Cell at 0x24f88775910>,\n",
       "  <SyMBac.cell.Cell at 0x24f886e25e0>,\n",
       "  <SyMBac.cell.Cell at 0x24f88805280>],\n",
       " [<SyMBac.cell.Cell at 0x24f887c0dc0>,\n",
       "  <SyMBac.cell.Cell at 0x24f887c0df0>,\n",
       "  <SyMBac.cell.Cell at 0x24f887c0c10>,\n",
       "  <SyMBac.cell.Cell at 0x24f88841c70>],\n",
       " [<SyMBac.cell.Cell at 0x24f88805550>,\n",
       "  <SyMBac.cell.Cell at 0x24f88805580>,\n",
       "  <SyMBac.cell.Cell at 0x24f888052e0>,\n",
       "  <SyMBac.cell.Cell at 0x24f88895040>],\n",
       " [<SyMBac.cell.Cell at 0x24f88841f40>,\n",
       "  <SyMBac.cell.Cell at 0x24f88841f70>,\n",
       "  <SyMBac.cell.Cell at 0x24f88841cd0>,\n",
       "  <SyMBac.cell.Cell at 0x24f888c8430>],\n",
       " [<SyMBac.cell.Cell at 0x24f88895340>,\n",
       "  <SyMBac.cell.Cell at 0x24f88895370>,\n",
       "  <SyMBac.cell.Cell at 0x24f888950d0>,\n",
       "  <SyMBac.cell.Cell at 0x24f8890f7c0>],\n",
       " [<SyMBac.cell.Cell at 0x24f888c8700>,\n",
       "  <SyMBac.cell.Cell at 0x24f888c8730>,\n",
       "  <SyMBac.cell.Cell at 0x24f888c8490>,\n",
       "  <SyMBac.cell.Cell at 0x24f8895abb0>],\n",
       " [<SyMBac.cell.Cell at 0x24f8890fac0>,\n",
       "  <SyMBac.cell.Cell at 0x24f8890faf0>,\n",
       "  <SyMBac.cell.Cell at 0x24f8890f850>,\n",
       "  <SyMBac.cell.Cell at 0x24f889a3f70>],\n",
       " [<SyMBac.cell.Cell at 0x24f8895ae80>,\n",
       "  <SyMBac.cell.Cell at 0x24f8895aeb0>,\n",
       "  <SyMBac.cell.Cell at 0x24f8895ac10>,\n",
       "  <SyMBac.cell.Cell at 0x24f889f5370>],\n",
       " [<SyMBac.cell.Cell at 0x24f889b51f0>,\n",
       "  <SyMBac.cell.Cell at 0x24f889b51c0>,\n",
       "  <SyMBac.cell.Cell at 0x24f889b5070>,\n",
       "  <SyMBac.cell.Cell at 0x24f88a3d730>],\n",
       " [<SyMBac.cell.Cell at 0x24f889f5640>,\n",
       "  <SyMBac.cell.Cell at 0x24f889f5670>,\n",
       "  <SyMBac.cell.Cell at 0x24f889f53d0>,\n",
       "  <SyMBac.cell.Cell at 0x24f88a85ac0>],\n",
       " [<SyMBac.cell.Cell at 0x24f88a3da00>,\n",
       "  <SyMBac.cell.Cell at 0x24f88a3da30>,\n",
       "  <SyMBac.cell.Cell at 0x24f88a3d790>,\n",
       "  <SyMBac.cell.Cell at 0x24f89a9de80>],\n",
       " [<SyMBac.cell.Cell at 0x24f88a85dc0>,\n",
       "  <SyMBac.cell.Cell at 0x24f88a85df0>,\n",
       "  <SyMBac.cell.Cell at 0x24f88a85b50>,\n",
       "  <SyMBac.cell.Cell at 0x24f89af42b0>],\n",
       " [<SyMBac.cell.Cell at 0x24f89ab11c0>,\n",
       "  <SyMBac.cell.Cell at 0x24f89ab11f0>,\n",
       "  <SyMBac.cell.Cell at 0x24f89a9df10>,\n",
       "  <SyMBac.cell.Cell at 0x24f89b38640>],\n",
       " [<SyMBac.cell.Cell at 0x24f89af4580>,\n",
       "  <SyMBac.cell.Cell at 0x24f89af45b0>,\n",
       "  <SyMBac.cell.Cell at 0x24f89af4310>,\n",
       "  <SyMBac.cell.Cell at 0x24f89b85ac0>],\n",
       " [<SyMBac.cell.Cell at 0x24f89b38940>,\n",
       "  <SyMBac.cell.Cell at 0x24f89b38910>,\n",
       "  <SyMBac.cell.Cell at 0x24f89b38790>,\n",
       "  <SyMBac.cell.Cell at 0x24f89bd0e50>],\n",
       " [<SyMBac.cell.Cell at 0x24f89b85d90>,\n",
       "  <SyMBac.cell.Cell at 0x24f89b85dc0>,\n",
       "  <SyMBac.cell.Cell at 0x24f89b85b20>,\n",
       "  <SyMBac.cell.Cell at 0x24f89c25280>],\n",
       " [<SyMBac.cell.Cell at 0x24f89bdd190>,\n",
       "  <SyMBac.cell.Cell at 0x24f89bdd1c0>,\n",
       "  <SyMBac.cell.Cell at 0x24f89bd0ee0>,\n",
       "  <SyMBac.cell.Cell at 0x24f89c6b610>],\n",
       " [<SyMBac.cell.Cell at 0x24f89c254c0>,\n",
       "  <SyMBac.cell.Cell at 0x24f89c25490>,\n",
       "  <SyMBac.cell.Cell at 0x24f89c253a0>],\n",
       " [<SyMBac.cell.Cell at 0x24f89c99760>,\n",
       "  <SyMBac.cell.Cell at 0x24f89c996d0>,\n",
       "  <SyMBac.cell.Cell at 0x24f89c99580>],\n",
       " [<SyMBac.cell.Cell at 0x24f89c99a90>,\n",
       "  <SyMBac.cell.Cell at 0x24f89c99a60>,\n",
       "  <SyMBac.cell.Cell at 0x24f89c99be0>],\n",
       " [<SyMBac.cell.Cell at 0x24f89c8e0a0>,\n",
       "  <SyMBac.cell.Cell at 0x24f89b38b80>,\n",
       "  <SyMBac.cell.Cell at 0x24f89c99520>],\n",
       " [<SyMBac.cell.Cell at 0x24f89d58220>,\n",
       "  <SyMBac.cell.Cell at 0x24f89ab13a0>,\n",
       "  <SyMBac.cell.Cell at 0x24f89c99910>],\n",
       " [<SyMBac.cell.Cell at 0x24f89d99340>,\n",
       "  <SyMBac.cell.Cell at 0x24f889f5730>,\n",
       "  <SyMBac.cell.Cell at 0x24f89c99ca0>],\n",
       " [<SyMBac.cell.Cell at 0x24f89ddf490>,\n",
       "  <SyMBac.cell.Cell at 0x24f89ddf430>,\n",
       "  <SyMBac.cell.Cell at 0x24f89c99b80>],\n",
       " [<SyMBac.cell.Cell at 0x24f89b760d0>,\n",
       "  <SyMBac.cell.Cell at 0x24f89b71e80>,\n",
       "  <SyMBac.cell.Cell at 0x24f88775a90>],\n",
       " [<SyMBac.cell.Cell at 0x24f89e520a0>,\n",
       "  <SyMBac.cell.Cell at 0x24f89d99370>,\n",
       "  <SyMBac.cell.Cell at 0x24f89c99e20>],\n",
       " [<SyMBac.cell.Cell at 0x24f89e9b220>,\n",
       "  <SyMBac.cell.Cell at 0x24f89e9b250>,\n",
       "  <SyMBac.cell.Cell at 0x24f89d99400>],\n",
       " [<SyMBac.cell.Cell at 0x24f89ed2370>,\n",
       "  <SyMBac.cell.Cell at 0x24f89ed23a0>,\n",
       "  <SyMBac.cell.Cell at 0x24f89e52100>],\n",
       " [<SyMBac.cell.Cell at 0x24f89f1b4c0>,\n",
       "  <SyMBac.cell.Cell at 0x24f89f1b4f0>,\n",
       "  <SyMBac.cell.Cell at 0x24f89e9b2b0>],\n",
       " [<SyMBac.cell.Cell at 0x24f89f655e0>,\n",
       "  <SyMBac.cell.Cell at 0x24f89f65580>,\n",
       "  <SyMBac.cell.Cell at 0x24f89e52130>],\n",
       " [<SyMBac.cell.Cell at 0x24f89faf730>,\n",
       "  <SyMBac.cell.Cell at 0x24f89c8e130>,\n",
       "  <SyMBac.cell.Cell at 0x24f89e9b340>],\n",
       " [<SyMBac.cell.Cell at 0x24f89ff68b0>,\n",
       "  <SyMBac.cell.Cell at 0x24f89ff68e0>,\n",
       "  <SyMBac.cell.Cell at 0x24f89c8e160>],\n",
       " [<SyMBac.cell.Cell at 0x24f8a03f9d0>,\n",
       "  <SyMBac.cell.Cell at 0x24f8a03fa30>,\n",
       "  <SyMBac.cell.Cell at 0x24f89faf700>],\n",
       " [<SyMBac.cell.Cell at 0x24f8a088b50>,\n",
       "  <SyMBac.cell.Cell at 0x24f8a088b80>,\n",
       "  <SyMBac.cell.Cell at 0x24f89e522b0>,\n",
       "  <SyMBac.cell.Cell at 0x24f8a1284f0>],\n",
       " [<SyMBac.cell.Cell at 0x24f8a0d3f40>,\n",
       "  <SyMBac.cell.Cell at 0x24f8a0d3e80>,\n",
       "  <SyMBac.cell.Cell at 0x24f8a0d3fa0>],\n",
       " [<SyMBac.cell.Cell at 0x24f89ff6910>,\n",
       "  <SyMBac.cell.Cell at 0x24f8a15a7c0>,\n",
       "  <SyMBac.cell.Cell at 0x24f8a15a910>],\n",
       " [<SyMBac.cell.Cell at 0x24f8a15ab50>,\n",
       "  <SyMBac.cell.Cell at 0x24f8a15aca0>,\n",
       "  <SyMBac.cell.Cell at 0x24f8a15ac10>],\n",
       " [<SyMBac.cell.Cell at 0x24f8a154e20>,\n",
       "  <SyMBac.cell.Cell at 0x24f8a15afa0>,\n",
       "  <SyMBac.cell.Cell at 0x24f8a174bb0>],\n",
       " [<SyMBac.cell.Cell at 0x24f8a208f70>,\n",
       "  <SyMBac.cell.Cell at 0x24f8a15aac0>,\n",
       "  <SyMBac.cell.Cell at 0x24f89c0a790>],\n",
       " [<SyMBac.cell.Cell at 0x24f8a2620d0>,\n",
       "  <SyMBac.cell.Cell at 0x24f8a15aa90>,\n",
       "  <SyMBac.cell.Cell at 0x24f8a154f70>],\n",
       " [<SyMBac.cell.Cell at 0x24f8a2a7250>,\n",
       "  <SyMBac.cell.Cell at 0x24f8a218100>,\n",
       "  <SyMBac.cell.Cell at 0x24f8a2a7280>],\n",
       " [<SyMBac.cell.Cell at 0x24f8a2ed370>,\n",
       "  <SyMBac.cell.Cell at 0x24f8a2ed3d0>,\n",
       "  <SyMBac.cell.Cell at 0x24f8a2621c0>,\n",
       "  <SyMBac.cell.Cell at 0x24f8a262100>],\n",
       " [<SyMBac.cell.Cell at 0x24f8a3367f0>,\n",
       "  <SyMBac.cell.Cell at 0x24f8a3367c0>,\n",
       "  <SyMBac.cell.Cell at 0x24f8a336670>,\n",
       "  <SyMBac.cell.Cell at 0x24f8a336640>],\n",
       " [<SyMBac.cell.Cell at 0x24f8a37ef70>,\n",
       "  <SyMBac.cell.Cell at 0x24f8a37ef40>,\n",
       "  <SyMBac.cell.Cell at 0x24f8a37ed00>,\n",
       "  <SyMBac.cell.Cell at 0x24f8a37ed90>],\n",
       " [<SyMBac.cell.Cell at 0x24f8a3df1f0>,\n",
       "  <SyMBac.cell.Cell at 0x24f8a3df160>,\n",
       "  <SyMBac.cell.Cell at 0x24f8a3df0a0>,\n",
       "  <SyMBac.cell.Cell at 0x24f8a3df130>],\n",
       " [<SyMBac.cell.Cell at 0x24f8a406580>,\n",
       "  <SyMBac.cell.Cell at 0x24f8a4065b0>,\n",
       "  <SyMBac.cell.Cell at 0x24f8a406370>,\n",
       "  <SyMBac.cell.Cell at 0x24f8a406400>],\n",
       " [<SyMBac.cell.Cell at 0x24f8a43d940>,\n",
       "  <SyMBac.cell.Cell at 0x24f8a43d970>,\n",
       "  <SyMBac.cell.Cell at 0x24f8a43d730>,\n",
       "  <SyMBac.cell.Cell at 0x24f8a43d7c0>],\n",
       " [<SyMBac.cell.Cell at 0x24f8a47fd00>,\n",
       "  <SyMBac.cell.Cell at 0x24f8a47fd30>,\n",
       "  <SyMBac.cell.Cell at 0x24f8a47faf0>,\n",
       "  <SyMBac.cell.Cell at 0x24f8a47fb80>],\n",
       " [<SyMBac.cell.Cell at 0x24f8a4db0d0>,\n",
       "  <SyMBac.cell.Cell at 0x24f8a4c6fd0>,\n",
       "  <SyMBac.cell.Cell at 0x24f8a4c6eb0>,\n",
       "  <SyMBac.cell.Cell at 0x24f8a4c6f40>],\n",
       " [<SyMBac.cell.Cell at 0x24f8a51e340>,\n",
       "  <SyMBac.cell.Cell at 0x24f8a51e1f0>,\n",
       "  <SyMBac.cell.Cell at 0x24f8a47fca0>],\n",
       " [<SyMBac.cell.Cell at 0x24f8a58a610>,\n",
       "  <SyMBac.cell.Cell at 0x24f8a58a5e0>,\n",
       "  <SyMBac.cell.Cell at 0x24f8a58a460>],\n",
       " [<SyMBac.cell.Cell at 0x24f8a58a940>,\n",
       "  <SyMBac.cell.Cell at 0x24f8a58a970>,\n",
       "  <SyMBac.cell.Cell at 0x24f8a58ab20>],\n",
       " [<SyMBac.cell.Cell at 0x24f8a601af0>,\n",
       "  <SyMBac.cell.Cell at 0x24f8a43daf0>,\n",
       "  <SyMBac.cell.Cell at 0x24f8a58a4f0>],\n",
       " [<SyMBac.cell.Cell at 0x24f8a64e160>,\n",
       "  <SyMBac.cell.Cell at 0x24f8a2ed550>,\n",
       "  <SyMBac.cell.Cell at 0x24f8a58a9a0>],\n",
       " [<SyMBac.cell.Cell at 0x24f8a690280>,\n",
       "  <SyMBac.cell.Cell at 0x24f8a2ed400>,\n",
       "  <SyMBac.cell.Cell at 0x24f8a58a430>],\n",
       " [<SyMBac.cell.Cell at 0x24f8a6d43d0>,\n",
       "  <SyMBac.cell.Cell at 0x24f8a6d4370>,\n",
       "  <SyMBac.cell.Cell at 0x24f8a58aaf0>,\n",
       "  <SyMBac.cell.Cell at 0x24f8a762d90>],\n",
       " [<SyMBac.cell.Cell at 0x24f8a71d8e0>,\n",
       "  <SyMBac.cell.Cell at 0x24f8a71d910>,\n",
       "  <SyMBac.cell.Cell at 0x24f8a71d730>,\n",
       "  <SyMBac.cell.Cell at 0x24f8a7b5fa0>],\n",
       " [<SyMBac.cell.Cell at 0x24f8a762fd0>,\n",
       "  <SyMBac.cell.Cell at 0x24f8a762f40>,\n",
       "  <SyMBac.cell.Cell at 0x24f8a762df0>,\n",
       "  <SyMBac.cell.Cell at 0x24f8a8053a0>],\n",
       " [<SyMBac.cell.Cell at 0x24f8a7c4220>,\n",
       "  <SyMBac.cell.Cell at 0x24f8a7c42e0>,\n",
       "  <SyMBac.cell.Cell at 0x24f8a7c4160>,\n",
       "  <SyMBac.cell.Cell at 0x24f8a84d790>],\n",
       " [<SyMBac.cell.Cell at 0x24f8a8056a0>,\n",
       "  <SyMBac.cell.Cell at 0x24f8a8056d0>,\n",
       "  <SyMBac.cell.Cell at 0x24f8a805430>,\n",
       "  <SyMBac.cell.Cell at 0x24f8a898b20>],\n",
       " [<SyMBac.cell.Cell at 0x24f8a84da60>,\n",
       "  <SyMBac.cell.Cell at 0x24f8a84da90>,\n",
       "  <SyMBac.cell.Cell at 0x24f8a84d7f0>,\n",
       "  <SyMBac.cell.Cell at 0x24f8a8e1ee0>]]"
      ]
     },
     "execution_count": 5,
     "metadata": {},
     "output_type": "execute_result"
    }
   ],
   "source": [
    "cell_timeseries"
   ]
  },
  {
   "cell_type": "markdown",
   "id": "059f4a80",
   "metadata": {
    "pycharm": {
     "name": "#%% md\n"
    }
   },
   "source": [
    "### Generating a sample \n",
    "\n",
    "Here we generate some dummy samples which are later used."
   ]
  },
  {
   "cell_type": "code",
   "execution_count": 5,
   "id": "f573c626-c0c7-4a64-aa5a-7d2160a910b2",
   "metadata": {
    "pycharm": {
     "name": "#%%\n"
    }
   },
   "outputs": [
    {
     "name": "stderr",
     "output_type": "stream",
     "text": [
      "f:\\cambridge\\meng\\urop 2022\\repository\\symbac\\venv\\lib\\site-packages\\SyMBac\\PSF.py:88: RuntimeWarning: invalid value encountered in divide\n",
      "  kernel1 = 2*jv(1,rr)/(rr)\n",
      "f:\\cambridge\\meng\\urop 2022\\repository\\symbac\\venv\\lib\\site-packages\\SyMBac\\PSF.py:91: RuntimeWarning: invalid value encountered in divide\n",
      "  kernel2 = 2*(R-W)**2/R**2 * jv(1,(R-W)**2/R**2 * rr)/rr\n"
     ]
    }
   ],
   "source": [
    "# plt.imshow(temp_expanded_scene)\n",
    "\n",
    "\n",
    "media_multiplier=30\n",
    "cell_multiplier=1\n",
    "device_multiplier=-50\n",
    "y_border_expansion_coefficient = 2\n",
    "x_border_expansion_coefficient = 2\n",
    "\n",
    "\n",
    "\n",
    "temp_expanded_scene, temp_expanded_scene_no_cells, temp_expanded_mask = generate_PC_OPL(\n",
    "   main_segments=main_segments,\n",
    "    offset=offset,\n",
    "    scene = scenes[0][0],\n",
    "    mask = scenes[0][1],\n",
    "    media_multiplier=media_multiplier,\n",
    "    cell_multiplier=cell_multiplier,\n",
    "    device_multiplier=cell_multiplier,\n",
    "    y_border_expansion_coefficient = y_border_expansion_coefficient,\n",
    "    x_border_expansion_coefficient = x_border_expansion_coefficient,\n",
    "    fluorescence=False,\n",
    "    defocus=30\n",
    ")\n",
    "\n",
    "\n",
    "\n",
    "### Generate temporary image to make same shape\n",
    "temp_kernel = get_phase_contrast_kernel(*kernel_params)\n",
    "convolved = convolve_rescale(temp_expanded_scene, temp_kernel, 1/resize_amount, rescale_int = True)\n",
    "real_resize, expanded_resized = make_images_same_shape(real_image,convolved, rescale_int=True)"
   ]
  },
  {
   "cell_type": "markdown",
   "id": "7759aa42-c846-41e3-ab9f-a2d015d0cc2c",
   "metadata": {
    "pycharm": {
     "name": "#%% md\n"
    }
   },
   "source": [
    "## Choosing intensities using Napari\n",
    "\n",
    "The following cell will open a Napari window where you will select intensities. \n",
    "\n",
    "* Select hte media/cell/device layer, and use the brush tool to paint over some (or all) of the mother machine device, media (area between cells) and the cells. \n",
    "* You can use the same label colour (`1`) for all of them, they are in different layers so it doesn't matter if they touch.\n",
    "* We do this because we want to find the 3 main intensities of the real image, the media, device and the cells. We then use these to estimate the similarity between the synthetic images and the real images."
   ]
  },
  {
   "cell_type": "code",
   "execution_count": 6,
   "id": "276e6f39-8368-4bca-b4e2-73d8ac8fd30d",
   "metadata": {
    "pycharm": {
     "name": "#%%\n"
    }
   },
   "outputs": [],
   "source": [
    "viewer = napari.view_image(real_resize)\n",
    "media_label = viewer.add_labels(np.zeros(real_resize.shape).astype(int), name = \"media\")\n",
    "cell_label = viewer.add_labels(np.zeros(real_resize.shape).astype(int), name = \"cell\")\n",
    "device_label = viewer.add_labels(np.zeros(real_resize.shape).astype(int), name = \"device\")"
   ]
  },
  {
   "cell_type": "code",
   "execution_count": 7,
   "id": "2ef464f9-754c-41ef-ad7a-3839d306e8cb",
   "metadata": {
    "pycharm": {
     "name": "#%%\n"
    }
   },
   "outputs": [],
   "source": [
    "real_media_mean = real_resize[np.where(media_label.data)].mean()\n",
    "real_cell_mean = real_resize[np.where(cell_label.data)].mean()\n",
    "real_device_mean = real_resize[np.where(device_label.data)].mean()\n",
    "real_means = np.array((real_media_mean, real_cell_mean, real_device_mean))\n",
    "\n",
    "real_media_var = real_resize[np.where(media_label.data)].var()\n",
    "real_cell_var = real_resize[np.where(cell_label.data)].var()\n",
    "real_device_var = real_resize[np.where(device_label.data)].var()\n",
    "real_vars = np.array((real_media_var, real_cell_var, real_device_var))\n",
    "\n",
    "image_params = (real_media_mean, real_cell_mean, real_device_mean, real_means, real_media_var, real_cell_var, real_device_var, real_vars)"
   ]
  },
  {
   "cell_type": "code",
   "execution_count": 6,
   "id": "be3ac220",
   "metadata": {},
   "outputs": [],
   "source": [
    "image_params = (0.5630013201112762, 0.22475433064801248, 0.05678678587940191, np.array([0.56300132, 0.22475433, 0.05678679]), 0.019102125423762138, 0.0077377173523391195, 0.0007844479687403128, np.array([0.01910213, 0.00773772, 0.00078445]))"
   ]
  },
  {
   "cell_type": "code",
   "execution_count": 7,
   "id": "4977bc42",
   "metadata": {},
   "outputs": [
    {
     "name": "stdout",
     "output_type": "stream",
     "text": [
      "(0.5630013201112762, 0.22475433064801248, 0.05678678587940191, array([0.56300132, 0.22475433, 0.05678679]), 0.019102125423762138, 0.0077377173523391195, 0.0007844479687403128, array([0.01910213, 0.00773772, 0.00078445]))\n"
     ]
    }
   ],
   "source": [
    "print(image_params)"
   ]
  },
  {
   "cell_type": "code",
   "execution_count": 8,
   "id": "4cb1647a-2e38-40a4-9d86-49630cab30aa",
   "metadata": {
    "pycharm": {
     "name": "#%%\n"
    }
   },
   "outputs": [],
   "source": [
    "mean_error = []\n",
    "media_error = []\n",
    "cell_error = []\n",
    "device_error = []\n",
    "\n",
    "mean_var_error = []\n",
    "media_var_error = []\n",
    "cell_var_error = []\n",
    "device_var_error = []\n",
    "\n",
    "error_params = (mean_error,media_error,cell_error,device_error,mean_var_error,media_var_error,cell_var_error,device_var_error)\n",
    "\n",
    "params = interactive(\n",
    "    generate_test_comparison,\n",
    "    {'manual': manual_update},\n",
    "    media_multiplier=(-300,300,1),\n",
    "    cell_multiplier=(-30,30,0.01),\n",
    "    device_multiplier=(-300,300,1),\n",
    "    sigma=(min_sigma,min_sigma*20, min_sigma/20),\n",
    "    scene_no = (0,len(scenes)-1,1),\n",
    "    noise_var=(0,0.01, 0.0001),\n",
    "    scale=fixed(scale),\n",
    "    match_fourier = [True, False],\n",
    "    match_histogram = [True, False],\n",
    "    match_noise = [True, False],\n",
    "    offset=fixed(offset),\n",
    "    main_segments = fixed(main_segments),\n",
    "    debug_plot=fixed(True),\n",
    "    scenes = fixed(scenes),\n",
    "    kernel_params = fixed(kernel_params),\n",
    "    resize_amount = fixed(resize_amount), \n",
    "    real_image = fixed(real_image),\n",
    "    image_params = fixed(image_params),\n",
    "    error_params = fixed(error_params),\n",
    "    x_border_expansion_coefficient = fixed(x_border_expansion_coefficient),\n",
    "    y_border_expansion_coefficient = fixed(y_border_expansion_coefficient),\n",
    "    fluorescence=[False, True],\n",
    "    defocus=(0,20,0.1)\n",
    ");"
   ]
  },
  {
   "cell_type": "markdown",
   "id": "2490283d-4b5e-4a6d-b466-47899c77ce6b",
   "metadata": {
    "pycharm": {
     "name": "#%% md\n"
    }
   },
   "source": [
    "## Manual image optimisation\n",
    "\n",
    "The image optimisation landscape is extremely noisy, and so I have not been able to find an objective function and optimiser which reliably converge and produce good images. Instead I've found that quickly playing with sliders is a very good way of getting the images to look correct. \n",
    "\n",
    "* `media_multiplier` is the intensity multiplier for the media part of the image\n",
    "* `cell_multiplier` is the intensity multiplier for cell parts of the image.\n",
    "* `device_multiplier` is the intensity multiplier for the device part of the image.\n",
    "* `sigma` is the radius (in pixels) of the gaussian apodisation of the phase contrast PSF (if you are using phase contrast).\n",
    "* `scene_no` is the index for the frame of the synthetic images you rendered.\n",
    "* `match_fourier` controls whether you are matching the rotational Fourier spectrum of the synthetic image to the real image. \n",
    "* `match_histogram` controls whether you are matching the intensity histogram of the images with each other.\n",
    "* `match_noise` controls whether you are matching the camera noise of the images with each other.\n",
    "* `noise_var` controls the variance of the shot noise added to the image.\n",
    "* `fluorescence` controls whether you are rendering a fluorescence of phase contrast image.\n",
    "* `defocus` controls the radius of a gaussian which simulates depth of focus and out of focus effects of the PSF."
   ]
  },
  {
   "cell_type": "code",
   "execution_count": 9,
   "id": "378b3b24-0db2-4a17-9dca-832d2a064de6",
   "metadata": {
    "pycharm": {
     "name": "#%%\n"
    }
   },
   "outputs": [
    {
     "data": {
      "application/vnd.jupyter.widget-view+json": {
       "model_id": "6991c7bea61847d9ad29232e99486b01",
       "version_major": 2,
       "version_minor": 0
      },
      "text/plain": [
       "interactive(children=(IntSlider(value=75, description='media_multiplier', max=300, min=-300), FloatSlider(valu…"
      ]
     },
     "metadata": {},
     "output_type": "display_data"
    }
   ],
   "source": [
    "params"
   ]
  },
  {
   "cell_type": "code",
   "execution_count": 10,
   "id": "332c02e6-af6f-41e7-979c-f00ee8e23781",
   "metadata": {
    "pycharm": {
     "name": "#%%\n"
    },
    "tags": []
   },
   "outputs": [
    {
     "name": "stderr",
     "output_type": "stream",
     "text": [
      "Sample generation: 100%|████████████████████████████████████████████████████████████████████████████████████████████████████████████████████████████████| 300/300 [01:43<00:00,  2.91it/s]\n"
     ]
    }
   ],
   "source": [
    "generate_training_data(interactive_output = params, sample_amount = 0, randomise_hist_match = False, randomise_noise_match = True, sim_length = sim_length, burn_in = 0, n_samples =  300, save_dir = \"F:/Cambridge/MENG/UROP 2022/Data/SyMBac/T300lysis0003-2/\", in_series=True)"
   ]
  },
  {
   "cell_type": "code",
   "execution_count": 12,
   "id": "d1663e06",
   "metadata": {
    "pycharm": {
     "name": "#%%\n"
    }
   },
   "outputs": [
    {
     "data": {
      "image/png": "[encoded data removed]",
      "text/plain": [
       "<Figure size 432x288 with 1 Axes>"
      ]
     },
     "metadata": {
      "needs_background": "light"
     },
     "output_type": "display_data"
    }
   ],
   "source": [
    "import tifffile\n",
    "\n",
    "image = tifffile.imread(\"F:/Cambridge/MENG/UROP 2022/Data/SyMBac/T150lysis0005/masks/synth_00000.tif\")\n",
    "plt.imshow(image)\n",
    "plt.show()"
   ]
  },
  {
   "cell_type": "code",
   "execution_count": 13,
   "id": "86a163be",
   "metadata": {},
   "outputs": [
    {
     "name": "stdout",
     "output_type": "stream",
     "text": [
      "150\n"
     ]
    }
   ],
   "source": [
    "print(len(cell_timeseries))"
   ]
  },
  {
   "cell_type": "code",
   "execution_count": 14,
   "id": "9e01d292",
   "metadata": {},
   "outputs": [],
   "source": [
    "#import pandas as pd\n",
    "\n",
    "#cell_count = sum([len(t) for t in cell_timeseries])\n",
    "#trench = [1] * cell_count\n",
    "#label = []\n",
    "#time = []\n",
    "#length = []\n",
    "#centroid_y = []\n",
    "#for x in range(len(cell_timeseries)):\n",
    "#    label.extend([i + 1 for i in range(len(cell_timeseries[x]))])\n",
    "#    time.extend([x for i in range(len(cell_timeseries[x]))])\n",
    "#    length.extend([c.length for c in cell_timeseries[x]])\n",
    "#    centroid_y.extend([c.position[1] for c in cell_timeseries[x]])\n",
    "#df = pd.DataFrame(data={\n",
    "#    \"trench_id\": trench,\n",
    "#    \"time_(mins)\": time,\n",
    "#    \"label\": label,\n",
    "#    \"major_axis_length\": length,\n",
    "#    \"centroid-0\": centroid_y\n",
    "#})\n",
    "#df.to_csv(\"F:/Cambridge/MENG/UROP 2022/Data/SyMBac/T300lysis0005/csv/t150.csv\")"
   ]
  },
  {
   "cell_type": "code",
   "execution_count": null,
   "id": "bb53107a",
   "metadata": {},
   "outputs": [],
   "source": []
  }
 ],
 "metadata": {
  "kernelspec": {
   "display_name": "Python 3 (ipykernel)",
   "language": "python",
   "name": "python3"
  },
  "language_info": {
   "codemirror_mode": {
    "name": "ipython",
    "version": 3
   },
   "file_extension": ".py",
   "mimetype": "text/x-python",
   "name": "python",
   "nbconvert_exporter": "python",
   "pygments_lexer": "ipython3",
   "version": "3.9.13"
  }
 },
 "nbformat": 4,
 "nbformat_minor": 5
}
