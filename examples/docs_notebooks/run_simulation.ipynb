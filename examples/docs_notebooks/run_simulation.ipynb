{
 "cells": [
  {
   "cell_type": "code",
   "execution_count": 1,
   "id": "7224bf47-95b7-4190-b7a6-08a1ebb3759b",
   "metadata": {},
   "outputs": [
    {
     "name": "stderr",
     "output_type": "stream",
     "text": [
      "/home/georgeos/miniconda3/envs/symbac/lib/python3.9/site-packages/SyMBac/general_drawing.py:18: UserWarning: Could not load CuPy for SyMBac, are you using a GPU? Defaulting to CPU convolution.\n",
      "  warnings.warn(\"Could not load CuPy for SyMBac, are you using a GPU? Defaulting to CPU convolution.\")\n"
     ]
    }
   ],
   "source": [
    "from SyMBac.phase_contrast_drawing import run_simulation, get_trench_segments\n",
    "from SyMBac.general_drawing import generate_curve_props, gen_cell_props_for_draw, get_space_size, convolve_rescale"
   ]
  },
  {
   "cell_type": "code",
   "execution_count": 2,
   "id": "fb049f97-022c-4aaa-ad04-e37db91665cf",
   "metadata": {},
   "outputs": [],
   "source": [
    "resize_amount = 3\n",
    "pix_mic_conv = 0.0655 ##0.108379937 micron/pix for 60x, 0.0655 for 100x\n",
    "scale = pix_mic_conv / resize_amount \n",
    "sim_length = 10"
   ]
  },
  {
   "cell_type": "code",
   "execution_count": 3,
   "id": "adbca6cb-dede-4b64-98b4-dc0251a97dd6",
   "metadata": {},
   "outputs": [],
   "source": [
    "cell_timeseries, space = run_simulation(\n",
    "    trench_length=15, \n",
    "    trench_width=1.5, \n",
    "    cell_max_length=6, #6, long cells # 1.65 short cells\n",
    "    cell_width= 1, #1 long cells # 0.95 short cells\n",
    "    sim_length = sim_length,\n",
    "    pix_mic_conv = pix_mic_conv,\n",
    "    gravity=0,\n",
    "    phys_iters=20,\n",
    "    max_length_var = 3,\n",
    "    width_var = 0.3,\n",
    "    save_dir=\"/tmp/\"\n",
    ") # growth phase"
   ]
  },
  {
   "cell_type": "code",
   "execution_count": 12,
   "id": "0919d7b1-61db-4e37-98af-d53d1018ead4",
   "metadata": {},
   "outputs": [
    {
     "data": {
      "text/plain": [
       "<SyMBac.cell.Cell at 0x7f2991742730>"
      ]
     },
     "execution_count": 12,
     "metadata": {},
     "output_type": "execute_result"
    }
   ],
   "source": [
    "cell_timeseries[-1][0].parent.parent.parent.parent"
   ]
  },
  {
   "cell_type": "code",
   "execution_count": 5,
   "id": "1311734c-92c6-4ab0-a804-1c33eb3d64c1",
   "metadata": {},
   "outputs": [
    {
     "data": {
      "text/plain": [
       "[<SyMBac.cell.Cell at 0x7f299235cd30>,\n",
       " <SyMBac.cell.Cell at 0x7f299235c7c0>,\n",
       " <SyMBac.cell.Cell at 0x7f299235c4c0>,\n",
       " <SyMBac.cell.Cell at 0x7f29922c9f10>]"
      ]
     },
     "execution_count": 5,
     "metadata": {},
     "output_type": "execute_result"
    }
   ],
   "source": [
    "cell_timeseries[0]"
   ]
  },
  {
   "cell_type": "code",
   "execution_count": 4,
   "id": "d904fac2-f242-4c02-b76d-9f55b53a8eb0",
   "metadata": {},
   "outputs": [],
   "source": [
    "main_segments = get_trench_segments(space)\n",
    "ID_props = generate_curve_props(cell_timeseries)"
   ]
  },
  {
   "cell_type": "code",
   "execution_count": 17,
   "id": "0e3bbaf9-ffe5-49e2-b22f-e5ec88041ba0",
   "metadata": {},
   "outputs": [
    {
     "data": {
      "application/vnd.jupyter.widget-view+json": {
       "model_id": "686d3548481644429eb87bb6b793e716",
       "version_major": 2,
       "version_minor": 0
      },
      "text/plain": [
       "Timeseries Properties:   0%|          | 0/10 [00:00<?, ?it/s]"
      ]
     },
     "metadata": {},
     "output_type": "display_data"
    },
    {
     "name": "stderr",
     "output_type": "stream",
     "text": [
      "/home/georgeos/miniconda3/envs/symbac/lib/python3.9/site-packages/SyMBac/general_drawing.py:18: UserWarning: Could not load CuPy for SyMBac, are you using a GPU? Defaulting to CPU convolution.\n",
      "  warnings.warn(\"Could not load CuPy for SyMBac, are you using a GPU? Defaulting to CPU convolution.\")\n",
      "/home/georgeos/miniconda3/envs/symbac/lib/python3.9/site-packages/SyMBac/general_drawing.py:18: UserWarning: Could not load CuPy for SyMBac, are you using a GPU? Defaulting to CPU convolution.\n",
      "  warnings.warn(\"Could not load CuPy for SyMBac, are you using a GPU? Defaulting to CPU convolution.\")\n",
      "/home/georgeos/miniconda3/envs/symbac/lib/python3.9/site-packages/SyMBac/general_drawing.py:18: UserWarning: Could not load CuPy for SyMBac, are you using a GPU? Defaulting to CPU convolution.\n",
      "  warnings.warn(\"Could not load CuPy for SyMBac, are you using a GPU? Defaulting to CPU convolution.\")\n",
      "/home/georgeos/miniconda3/envs/symbac/lib/python3.9/site-packages/SyMBac/general_drawing.py:18: UserWarning: Could not load CuPy for SyMBac, are you using a GPU? Defaulting to CPU convolution.\n",
      "  warnings.warn(\"Could not load CuPy for SyMBac, are you using a GPU? Defaulting to CPU convolution.\")\n",
      "/home/georgeos/miniconda3/envs/symbac/lib/python3.9/site-packages/SyMBac/general_drawing.py:18: UserWarning: Could not load CuPy for SyMBac, are you using a GPU? Defaulting to CPU convolution.\n",
      "  warnings.warn(\"Could not load CuPy for SyMBac, are you using a GPU? Defaulting to CPU convolution.\")\n",
      "/home/georgeos/miniconda3/envs/symbac/lib/python3.9/site-packages/SyMBac/general_drawing.py:18: UserWarning: Could not load CuPy for SyMBac, are you using a GPU? Defaulting to CPU convolution.\n",
      "  warnings.warn(\"Could not load CuPy for SyMBac, are you using a GPU? Defaulting to CPU convolution.\")\n",
      "/home/georgeos/miniconda3/envs/symbac/lib/python3.9/site-packages/SyMBac/general_drawing.py:18: UserWarning: Could not load CuPy for SyMBac, are you using a GPU? Defaulting to CPU convolution.\n",
      "  warnings.warn(\"Could not load CuPy for SyMBac, are you using a GPU? Defaulting to CPU convolution.\")\n",
      "/home/georgeos/miniconda3/envs/symbac/lib/python3.9/site-packages/SyMBac/general_drawing.py:18: UserWarning: Could not load CuPy for SyMBac, are you using a GPU? Defaulting to CPU convolution.\n",
      "  warnings.warn(\"Could not load CuPy for SyMBac, are you using a GPU? Defaulting to CPU convolution.\")\n",
      "/home/georgeos/miniconda3/envs/symbac/lib/python3.9/site-packages/SyMBac/general_drawing.py:18: UserWarning: Could not load CuPy for SyMBac, are you using a GPU? Defaulting to CPU convolution.\n",
      "  warnings.warn(\"Could not load CuPy for SyMBac, are you using a GPU? Defaulting to CPU convolution.\")\n",
      "/home/georgeos/miniconda3/envs/symbac/lib/python3.9/site-packages/SyMBac/general_drawing.py:18: UserWarning: Could not load CuPy for SyMBac, are you using a GPU? Defaulting to CPU convolution.\n",
      "  warnings.warn(\"Could not load CuPy for SyMBac, are you using a GPU? Defaulting to CPU convolution.\")\n"
     ]
    },
    {
     "data": {
      "application/vnd.jupyter.widget-view+json": {
       "model_id": "3b4b455bd05042bbbc361591b98224a8",
       "version_major": 2,
       "version_minor": 0
      },
      "text/plain": [
       "Scene Draw::   0%|          | 0/10 [00:00<?, ?it/s]"
      ]
     },
     "metadata": {},
     "output_type": "display_data"
    },
    {
     "ename": "NameError",
     "evalue": "name 'draw_scene' is not defined",
     "output_type": "error",
     "traceback": [
      "\u001b[0;31m---------------------------------------------------------------------------\u001b[0m",
      "\u001b[0;31mEmpty\u001b[0m                                     Traceback (most recent call last)",
      "File \u001b[0;32m~/miniconda3/envs/symbac/lib/python3.9/site-packages/joblib/parallel.py:822\u001b[0m, in \u001b[0;36mParallel.dispatch_one_batch\u001b[0;34m(self, iterator)\u001b[0m\n\u001b[1;32m    821\u001b[0m \u001b[38;5;28;01mtry\u001b[39;00m:\n\u001b[0;32m--> 822\u001b[0m     tasks \u001b[38;5;241m=\u001b[39m \u001b[38;5;28;43mself\u001b[39;49m\u001b[38;5;241;43m.\u001b[39;49m\u001b[43m_ready_batches\u001b[49m\u001b[38;5;241;43m.\u001b[39;49m\u001b[43mget\u001b[49m\u001b[43m(\u001b[49m\u001b[43mblock\u001b[49m\u001b[38;5;241;43m=\u001b[39;49m\u001b[38;5;28;43;01mFalse\u001b[39;49;00m\u001b[43m)\u001b[49m\n\u001b[1;32m    823\u001b[0m \u001b[38;5;28;01mexcept\u001b[39;00m queue\u001b[38;5;241m.\u001b[39mEmpty:\n\u001b[1;32m    824\u001b[0m     \u001b[38;5;66;03m# slice the iterator n_jobs * batchsize items at a time. If the\u001b[39;00m\n\u001b[1;32m    825\u001b[0m     \u001b[38;5;66;03m# slice returns less than that, then the current batchsize puts\u001b[39;00m\n\u001b[0;32m   (...)\u001b[0m\n\u001b[1;32m    828\u001b[0m     \u001b[38;5;66;03m# accordingly to distribute evenly the last items between all\u001b[39;00m\n\u001b[1;32m    829\u001b[0m     \u001b[38;5;66;03m# workers.\u001b[39;00m\n",
      "File \u001b[0;32m~/miniconda3/envs/symbac/lib/python3.9/queue.py:168\u001b[0m, in \u001b[0;36mQueue.get\u001b[0;34m(self, block, timeout)\u001b[0m\n\u001b[1;32m    167\u001b[0m     \u001b[38;5;28;01mif\u001b[39;00m \u001b[38;5;129;01mnot\u001b[39;00m \u001b[38;5;28mself\u001b[39m\u001b[38;5;241m.\u001b[39m_qsize():\n\u001b[0;32m--> 168\u001b[0m         \u001b[38;5;28;01mraise\u001b[39;00m Empty\n\u001b[1;32m    169\u001b[0m \u001b[38;5;28;01melif\u001b[39;00m timeout \u001b[38;5;129;01mis\u001b[39;00m \u001b[38;5;28;01mNone\u001b[39;00m:\n",
      "\u001b[0;31mEmpty\u001b[0m: ",
      "\nDuring handling of the above exception, another exception occurred:\n",
      "\u001b[0;31mNameError\u001b[0m                                 Traceback (most recent call last)",
      "Input \u001b[0;32mIn [17]\u001b[0m, in \u001b[0;36m<cell line: 11>\u001b[0;34m()\u001b[0m\n\u001b[1;32m      9\u001b[0m label_masks \u001b[38;5;241m=\u001b[39m \u001b[38;5;28;01mTrue\u001b[39;00m\n\u001b[1;32m     10\u001b[0m space_size \u001b[38;5;241m=\u001b[39m get_space_size(cell_timeseries_properties)\n\u001b[0;32m---> 11\u001b[0m scenes \u001b[38;5;241m=\u001b[39m \u001b[43mParallel\u001b[49m\u001b[43m(\u001b[49m\u001b[43mn_jobs\u001b[49m\u001b[38;5;241;43m=\u001b[39;49m\u001b[38;5;241;43m13\u001b[39;49m\u001b[43m)\u001b[49m\u001b[43m(\u001b[49m\u001b[43mdelayed\u001b[49m\u001b[43m(\u001b[49m\u001b[43mdraw_scene\u001b[49m\u001b[43m)\u001b[49m\u001b[43m(\u001b[49m\n\u001b[1;32m     12\u001b[0m \u001b[43m    \u001b[49m\u001b[43mcell_properties\u001b[49m\u001b[43m,\u001b[49m\u001b[43m \u001b[49m\u001b[43mdo_transformation\u001b[49m\u001b[43m,\u001b[49m\u001b[43m \u001b[49m\u001b[43mspace_size\u001b[49m\u001b[43m,\u001b[49m\u001b[43m \u001b[49m\u001b[43moffset\u001b[49m\u001b[43m,\u001b[49m\u001b[43m \u001b[49m\u001b[43mlabel_masks\u001b[49m\u001b[43m)\u001b[49m\u001b[43m \u001b[49m\u001b[38;5;28;43;01mfor\u001b[39;49;00m\u001b[43m \u001b[49m\u001b[43mcell_properties\u001b[49m\u001b[43m \u001b[49m\u001b[38;5;129;43;01min\u001b[39;49;00m\u001b[43m \u001b[49m\u001b[43mtqdm\u001b[49m\u001b[43m(\u001b[49m\u001b[43mcell_timeseries_properties\u001b[49m\u001b[43m,\u001b[49m\u001b[43m \u001b[49m\u001b[43mdesc\u001b[49m\u001b[38;5;241;43m=\u001b[39;49m\u001b[38;5;124;43m'\u001b[39;49m\u001b[38;5;124;43mScene Draw:\u001b[39;49m\u001b[38;5;124;43m'\u001b[39;49m\u001b[43m)\u001b[49m\u001b[43m)\u001b[49m\n",
      "File \u001b[0;32m~/miniconda3/envs/symbac/lib/python3.9/site-packages/joblib/parallel.py:1043\u001b[0m, in \u001b[0;36mParallel.__call__\u001b[0;34m(self, iterable)\u001b[0m\n\u001b[1;32m   1034\u001b[0m \u001b[38;5;28;01mtry\u001b[39;00m:\n\u001b[1;32m   1035\u001b[0m     \u001b[38;5;66;03m# Only set self._iterating to True if at least a batch\u001b[39;00m\n\u001b[1;32m   1036\u001b[0m     \u001b[38;5;66;03m# was dispatched. In particular this covers the edge\u001b[39;00m\n\u001b[0;32m   (...)\u001b[0m\n\u001b[1;32m   1040\u001b[0m     \u001b[38;5;66;03m# was very quick and its callback already dispatched all the\u001b[39;00m\n\u001b[1;32m   1041\u001b[0m     \u001b[38;5;66;03m# remaining jobs.\u001b[39;00m\n\u001b[1;32m   1042\u001b[0m     \u001b[38;5;28mself\u001b[39m\u001b[38;5;241m.\u001b[39m_iterating \u001b[38;5;241m=\u001b[39m \u001b[38;5;28;01mFalse\u001b[39;00m\n\u001b[0;32m-> 1043\u001b[0m     \u001b[38;5;28;01mif\u001b[39;00m \u001b[38;5;28;43mself\u001b[39;49m\u001b[38;5;241;43m.\u001b[39;49m\u001b[43mdispatch_one_batch\u001b[49m\u001b[43m(\u001b[49m\u001b[43miterator\u001b[49m\u001b[43m)\u001b[49m:\n\u001b[1;32m   1044\u001b[0m         \u001b[38;5;28mself\u001b[39m\u001b[38;5;241m.\u001b[39m_iterating \u001b[38;5;241m=\u001b[39m \u001b[38;5;28mself\u001b[39m\u001b[38;5;241m.\u001b[39m_original_iterator \u001b[38;5;129;01mis\u001b[39;00m \u001b[38;5;129;01mnot\u001b[39;00m \u001b[38;5;28;01mNone\u001b[39;00m\n\u001b[1;32m   1046\u001b[0m     \u001b[38;5;28;01mwhile\u001b[39;00m \u001b[38;5;28mself\u001b[39m\u001b[38;5;241m.\u001b[39mdispatch_one_batch(iterator):\n",
      "File \u001b[0;32m~/miniconda3/envs/symbac/lib/python3.9/site-packages/joblib/parallel.py:833\u001b[0m, in \u001b[0;36mParallel.dispatch_one_batch\u001b[0;34m(self, iterator)\u001b[0m\n\u001b[1;32m    830\u001b[0m n_jobs \u001b[38;5;241m=\u001b[39m \u001b[38;5;28mself\u001b[39m\u001b[38;5;241m.\u001b[39m_cached_effective_n_jobs\n\u001b[1;32m    831\u001b[0m big_batch_size \u001b[38;5;241m=\u001b[39m batch_size \u001b[38;5;241m*\u001b[39m n_jobs\n\u001b[0;32m--> 833\u001b[0m islice \u001b[38;5;241m=\u001b[39m \u001b[38;5;28;43mlist\u001b[39;49m\u001b[43m(\u001b[49m\u001b[43mitertools\u001b[49m\u001b[38;5;241;43m.\u001b[39;49m\u001b[43mislice\u001b[49m\u001b[43m(\u001b[49m\u001b[43miterator\u001b[49m\u001b[43m,\u001b[49m\u001b[43m \u001b[49m\u001b[43mbig_batch_size\u001b[49m\u001b[43m)\u001b[49m\u001b[43m)\u001b[49m\n\u001b[1;32m    834\u001b[0m \u001b[38;5;28;01mif\u001b[39;00m \u001b[38;5;28mlen\u001b[39m(islice) \u001b[38;5;241m==\u001b[39m \u001b[38;5;241m0\u001b[39m:\n\u001b[1;32m    835\u001b[0m     \u001b[38;5;28;01mreturn\u001b[39;00m \u001b[38;5;28;01mFalse\u001b[39;00m\n",
      "Input \u001b[0;32mIn [17]\u001b[0m, in \u001b[0;36m<genexpr>\u001b[0;34m(.0)\u001b[0m\n\u001b[1;32m      9\u001b[0m label_masks \u001b[38;5;241m=\u001b[39m \u001b[38;5;28;01mTrue\u001b[39;00m\n\u001b[1;32m     10\u001b[0m space_size \u001b[38;5;241m=\u001b[39m get_space_size(cell_timeseries_properties)\n\u001b[0;32m---> 11\u001b[0m scenes \u001b[38;5;241m=\u001b[39m Parallel(n_jobs\u001b[38;5;241m=\u001b[39m\u001b[38;5;241m13\u001b[39m)(delayed(\u001b[43mdraw_scene\u001b[49m)(\n\u001b[1;32m     12\u001b[0m     cell_properties, do_transformation, space_size, offset, label_masks) \u001b[38;5;28;01mfor\u001b[39;00m cell_properties \u001b[38;5;129;01min\u001b[39;00m tqdm(cell_timeseries_properties, desc\u001b[38;5;241m=\u001b[39m\u001b[38;5;124m'\u001b[39m\u001b[38;5;124mScene Draw:\u001b[39m\u001b[38;5;124m'\u001b[39m))\n",
      "\u001b[0;31mNameError\u001b[0m: name 'draw_scene' is not defined"
     ]
    }
   ],
   "source": [
    "\n",
    "from joblib import Parallel, delayed\n",
    "from tqdm.notebook import tqdm\n",
    "\n",
    "cell_timeseries_properties = Parallel(n_jobs=-1)(\n",
    "    delayed(gen_cell_props_for_draw)(a, ID_props) for a in tqdm(cell_timeseries, desc='Timeseries Properties'))\n",
    "\n",
    "do_transformation = True\n",
    "offset = 30\n",
    "label_masks = True\n",
    "space_size = get_space_size(cell_timeseries_properties)\n",
    "scenes = Parallel(n_jobs=13)(delayed(draw_scene)(\n",
    "    cell_properties, do_transformation, space_size, offset, label_masks) for cell_properties in tqdm(cell_timeseries_properties, desc='Scene Draw:'))"
   ]
  },
  {
   "cell_type": "code",
   "execution_count": 16,
   "id": "18a273f9-b763-4831-ac67-91dcedce10f8",
   "metadata": {},
   "outputs": [
    {
     "data": {
      "text/plain": [
       "[[[223.81874164103203,\n",
       "   46.72834002788455,\n",
       "   5.112951319309161,\n",
       "   array([ 71.04394002, 691.64760682]),\n",
       "   0.9478305197588753,\n",
       "   0.9977088627781016,\n",
       "   0.06722785698445688,\n",
       "   20],\n",
       "  [210.0484775236967,\n",
       "   48.79855110072663,\n",
       "   6.98799876815589,\n",
       "   array([ 69.63745399, 285.18745656]),\n",
       "   0.9577389440298205,\n",
       "   0.9127044542856538,\n",
       "   0.007282734483482267,\n",
       "   20],\n",
       "  [185.1699913486214,\n",
       "   44.15557376205939,\n",
       "   5.489814193130002,\n",
       "   array([63.90982784, 93.40261849]),\n",
       "   1.0661718842122954,\n",
       "   0.9031852590229659,\n",
       "   -0.9708975623122886,\n",
       "   20],\n",
       "  [203.93649856237764,\n",
       "   46.87318433147998,\n",
       "   8.07223092705621,\n",
       "   array([ 69.12037476, 483.40314854]),\n",
       "   1.0819905229537503,\n",
       "   0.9871559849726338,\n",
       "   -0.5956671375410685,\n",
       "   20]],\n",
       " [[213.32898899036098,\n",
       "   48.79855110072663,\n",
       "   6.072659585651863,\n",
       "   array([ 69.3320863 , 291.13373006]),\n",
       "   0.9577389440298205,\n",
       "   0.9127044542856538,\n",
       "   0.007282734483482267,\n",
       "   20],\n",
       "  [188.4758474442039,\n",
       "   44.15557376205939,\n",
       "   4.22799830572842,\n",
       "   array([64.03458845, 94.61388573]),\n",
       "   1.0661718842122954,\n",
       "   0.9031852590229659,\n",
       "   -0.9708975623122886,\n",
       "   20],\n",
       "  [207.7613952535093,\n",
       "   46.87318433147998,\n",
       "   6.917738200659443,\n",
       "   array([ 69.51148775, 496.45139023]),\n",
       "   1.0819905229537503,\n",
       "   0.9871559849726338,\n",
       "   -0.5956671375410685,\n",
       "   20]],\n",
       " [[216.66353527687798,\n",
       "   48.79855110072663,\n",
       "   6.644169817641185,\n",
       "   array([ 69.73530685, 297.68455895]),\n",
       "   0.9577389440298205,\n",
       "   0.9127044542856538,\n",
       "   0.007282734483482267,\n",
       "   20],\n",
       "  [191.93950124808788,\n",
       "   44.15557376205939,\n",
       "   4.185587285960736,\n",
       "   array([64.72846315, 98.43724028]),\n",
       "   1.0661718842122954,\n",
       "   0.9031852590229659,\n",
       "   -0.9708975623122886,\n",
       "   20],\n",
       "  [211.32221740409773,\n",
       "   46.87318433147998,\n",
       "   7.442601188211626,\n",
       "   array([ 69.51632806, 504.91533023]),\n",
       "   1.0819905229537503,\n",
       "   0.9871559849726338,\n",
       "   -0.5956671375410685,\n",
       "   20]],\n",
       " [[219.4029850273294,\n",
       "   48.79855110072663,\n",
       "   5.863886538901667,\n",
       "   array([ 69.84253019, 300.32375805]),\n",
       "   0.9577389440298205,\n",
       "   0.9127044542856538,\n",
       "   0.007282734483482267,\n",
       "   20],\n",
       "  [194.20818271423724,\n",
       "   44.15557376205939,\n",
       "   4.12087595167408,\n",
       "   array([63.94682773, 98.62305366]),\n",
       "   1.0661718842122954,\n",
       "   0.9031852590229659,\n",
       "   -0.9708975623122886,\n",
       "   20],\n",
       "  [214.0093241597112,\n",
       "   46.87318433147998,\n",
       "   6.670229187798995,\n",
       "   array([ 69.40218984, 512.12678887]),\n",
       "   1.0819905229537503,\n",
       "   0.9871559849726338,\n",
       "   -0.5956671375410685,\n",
       "   20]],\n",
       " [[222.0106061409751,\n",
       "   48.79855110072663,\n",
       "   5.763478102321287,\n",
       "   array([ 69.63617578, 304.27797934]),\n",
       "   0.9577389440298205,\n",
       "   0.9127044542856538,\n",
       "   0.007282734483482267,\n",
       "   20],\n",
       "  [196.5907076649469,\n",
       "   44.15557376205939,\n",
       "   4.036852324857648,\n",
       "   array([ 62.73516849, 100.16996366]),\n",
       "   1.0661718842122954,\n",
       "   0.9031852590229659,\n",
       "   -0.9708975623122886,\n",
       "   20],\n",
       "  [216.7289502738277,\n",
       "   46.87318433147998,\n",
       "   6.543199248273012,\n",
       "   array([ 69.05813054, 518.46484459]),\n",
       "   1.0819905229537503,\n",
       "   0.9871559849726338,\n",
       "   -0.5956671375410685,\n",
       "   20]],\n",
       " [[225.4679516820893,\n",
       "   48.79855110072663,\n",
       "   5.6597733104157015,\n",
       "   array([ 69.58970661, 307.12360426]),\n",
       "   0.9577389440298205,\n",
       "   0.9127044542856538,\n",
       "   0.007282734483482267,\n",
       "   20],\n",
       "  [199.21218750775407,\n",
       "   44.15557376205939,\n",
       "   4.669009191338546,\n",
       "   array([ 63.25132553, 101.01923367]),\n",
       "   1.0661718842122954,\n",
       "   0.9031852590229659,\n",
       "   -0.9708975623122886,\n",
       "   20],\n",
       "  [219.87045745432138,\n",
       "   46.87318433147998,\n",
       "   7.092449964818513,\n",
       "   array([ 69.88339966, 525.28984525]),\n",
       "   1.0819905229537503,\n",
       "   0.9871559849726338,\n",
       "   -0.5956671375410685,\n",
       "   20]],\n",
       " [[229.644520142755,\n",
       "   48.79855110072663,\n",
       "   5.52361934782671,\n",
       "   array([ 68.5997079 , 315.03484328]),\n",
       "   0.9577389440298205,\n",
       "   0.9127044542856538,\n",
       "   0.007282734483482267,\n",
       "   20],\n",
       "  [202.90054871423294,\n",
       "   44.15557376205939,\n",
       "   3.9004735330269256,\n",
       "   array([ 64.30014935, 102.79087219]),\n",
       "   1.0661718842122954,\n",
       "   0.9031852590229659,\n",
       "   -0.9708975623122886,\n",
       "   20],\n",
       "  [222.27600011499752,\n",
       "   46.87318433147998,\n",
       "   6.997302011420032,\n",
       "   array([ 69.15865619, 534.08644006]),\n",
       "   1.0819905229537503,\n",
       "   0.9871559849726338,\n",
       "   -0.5956671375410685,\n",
       "   20]],\n",
       " [[232.3986338907355,\n",
       "   48.79855110072663,\n",
       "   6.081371572992381,\n",
       "   array([ 69.7592887 , 320.22614541]),\n",
       "   0.9577389440298205,\n",
       "   0.9127044542856538,\n",
       "   0.007282734483482267,\n",
       "   20],\n",
       "  [206.626700239837,\n",
       "   44.15557376205939,\n",
       "   4.463261339585557,\n",
       "   array([ 63.39656198, 105.18605714]),\n",
       "   1.0661718842122954,\n",
       "   0.9031852590229659,\n",
       "   -0.9708975623122886,\n",
       "   20],\n",
       "  [226.3265992611611,\n",
       "   46.87318433147998,\n",
       "   6.209056456307152,\n",
       "   array([ 69.67024384, 543.19246297]),\n",
       "   1.0819905229537503,\n",
       "   0.9871559849726338,\n",
       "   -0.5956671375410685,\n",
       "   20]],\n",
       " [[236.04630684009697,\n",
       "   48.79855110072663,\n",
       "   5.3306563400361995,\n",
       "   array([ 69.4608686 , 323.71205789]),\n",
       "   0.9577389440298205,\n",
       "   0.9127044542856538,\n",
       "   0.007282734483482267,\n",
       "   20],\n",
       "  [209.1941804608061,\n",
       "   44.15557376205939,\n",
       "   3.737519157443913,\n",
       "   array([ 64.5106901 , 105.38125821]),\n",
       "   1.0661718842122954,\n",
       "   0.9031852590229659,\n",
       "   -0.9708975623122886,\n",
       "   20],\n",
       "  [230.6628510032784,\n",
       "   46.87318433147998,\n",
       "   6.057303732105467,\n",
       "   array([ 68.89755402, 550.02739198]),\n",
       "   1.0819905229537503,\n",
       "   0.9871559849726338,\n",
       "   -0.5956671375410685,\n",
       "   20]],\n",
       " [[239.6411490772812,\n",
       "   48.79855110072663,\n",
       "   5.85185814794572,\n",
       "   array([ 70.11258743, 327.1289815 ]),\n",
       "   0.9577389440298205,\n",
       "   0.9127044542856538,\n",
       "   0.007282734483482267,\n",
       "   20],\n",
       "  [211.71095108018886,\n",
       "   44.15557376205939,\n",
       "   3.687120030208277,\n",
       "   array([ 63.67654602, 108.76647318]),\n",
       "   1.0661718842122954,\n",
       "   0.9031852590229659,\n",
       "   -0.9708975623122886,\n",
       "   20],\n",
       "  [233.47865480713853,\n",
       "   46.87318433147998,\n",
       "   5.96491479095458,\n",
       "   array([ 69.42288597, 559.71917617]),\n",
       "   1.0819905229537503,\n",
       "   0.9871559849726338,\n",
       "   -0.5956671375410685,\n",
       "   20]]]"
      ]
     },
     "execution_count": 16,
     "metadata": {},
     "output_type": "execute_result"
    }
   ],
   "source": [
    "cell_timeseries_properties"
   ]
  },
  {
   "cell_type": "code",
   "execution_count": null,
   "id": "91e97f95-cd70-46ff-bf3e-bda4c7d4393a",
   "metadata": {},
   "outputs": [],
   "source": []
  }
 ],
 "metadata": {
  "kernelspec": {
   "display_name": "Python 3 (ipykernel)",
   "language": "python",
   "name": "python3"
  },
  "language_info": {
   "codemirror_mode": {
    "name": "ipython",
    "version": 3
   },
   "file_extension": ".py",
   "mimetype": "text/x-python",
   "name": "python",
   "nbconvert_exporter": "python",
   "pygments_lexer": "ipython3",
   "version": "3.9.12"
  }
 },
 "nbformat": 4,
 "nbformat_minor": 5
}
