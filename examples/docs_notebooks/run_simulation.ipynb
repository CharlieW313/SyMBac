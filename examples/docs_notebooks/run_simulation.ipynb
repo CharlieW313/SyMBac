{
 "cells": [
  {
   "cell_type": "code",
   "execution_count": 1,
   "id": "7224bf47-95b7-4190-b7a6-08a1ebb3759b",
   "metadata": {},
   "outputs": [
    {
     "name": "stderr",
     "output_type": "stream",
     "text": [
      "/home/georgeos/miniconda3/envs/symbac/lib/python3.9/site-packages/SyMBac/general_drawing.py:18: UserWarning: Could not load CuPy for SyMBac, are you using a GPU? Defaulting to CPU convolution.\n",
      "  warnings.warn(\"Could not load CuPy for SyMBac, are you using a GPU? Defaulting to CPU convolution.\")\n"
     ]
    }
   ],
   "source": [
    "from SyMBac.phase_contrast_drawing import run_simulation"
   ]
  },
  {
   "cell_type": "code",
   "execution_count": 5,
   "id": "fb049f97-022c-4aaa-ad04-e37db91665cf",
   "metadata": {},
   "outputs": [],
   "source": [
    "resize_amount = 3\n",
    "pix_mic_conv = 0.0655 ##0.108379937 micron/pix for 60x, 0.0655 for 100x\n",
    "scale = pix_mic_conv / resize_amount \n",
    "sim_length = 10"
   ]
  },
  {
   "cell_type": "code",
   "execution_count": 6,
   "id": "adbca6cb-dede-4b64-98b4-dc0251a97dd6",
   "metadata": {},
   "outputs": [],
   "source": [
    "cell_timeseries, space = run_simulation(\n",
    "    trench_length=15, \n",
    "    trench_width=1.5, \n",
    "    cell_max_length=6, #6, long cells # 1.65 short cells\n",
    "    cell_width= 1, #1 long cells # 0.95 short cells\n",
    "    sim_length = sim_length,\n",
    "    pix_mic_conv = pix_mic_conv,\n",
    "    gravity=0,\n",
    "    phys_iters=20,\n",
    "    max_length_var = 3,\n",
    "    width_var = 0.3,\n",
    "    save_dir=\"/tmp/\"\n",
    ") # growth phase"
   ]
  },
  {
   "cell_type": "code",
   "execution_count": 10,
   "id": "d904fac2-f242-4c02-b76d-9f55b53a8eb0",
   "metadata": {},
   "outputs": [
    {
     "data": {
      "text/plain": [
       "<SyMBac.cell.Cell at 0x7fbc9f2b0fa0>"
      ]
     },
     "execution_count": 10,
     "metadata": {},
     "output_type": "execute_result"
    }
   ],
   "source": [
    "cell_timeseries[0][0]."
   ]
  },
  {
   "cell_type": "code",
   "execution_count": null,
   "id": "0e3bbaf9-ffe5-49e2-b22f-e5ec88041ba0",
   "metadata": {},
   "outputs": [],
   "source": []
  }
 ],
 "metadata": {
  "kernelspec": {
   "display_name": "Python 3 (ipykernel)",
   "language": "python",
   "name": "python3"
  },
  "language_info": {
   "codemirror_mode": {
    "name": "ipython",
    "version": 3
   },
   "file_extension": ".py",
   "mimetype": "text/x-python",
   "name": "python",
   "nbconvert_exporter": "python",
   "pygments_lexer": "ipython3",
   "version": "3.9.12"
  }
 },
 "nbformat": 4,
 "nbformat_minor": 5
}
